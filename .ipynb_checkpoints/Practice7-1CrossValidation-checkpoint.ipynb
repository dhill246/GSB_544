{
 "cells": [
  {
   "cell_type": "raw",
   "metadata": {},
   "source": [
    "---\n",
    "title: \"Practice 7.1: Cross Validation\"\n",
    "self-contained: True\n",
    "format:\n",
    "  html:\n",
    "    theme: darkly\n",
    "---"
   ]
  },
  {
   "cell_type": "code",
   "execution_count": 2,
   "metadata": {
    "id": "vu8gQvnV1vDB"
   },
   "outputs": [],
   "source": [
    "import pandas as pd\n",
    "import numpy as np\n",
    "from sklearn.pipeline import Pipeline\n",
    "from sklearn.preprocessing import StandardScaler, OneHotEncoder, PolynomialFeatures, FunctionTransformer\n",
    "from sklearn.linear_model import LinearRegression\n",
    "from sklearn.model_selection import train_test_split\n",
    "from sklearn.metrics import r2_score, mean_squared_error"
   ]
  },
  {
   "cell_type": "code",
   "execution_count": 3,
   "metadata": {
    "colab": {
     "base_uri": "https://localhost:8080/"
    },
    "id": "4xTsE85T2cl9",
    "outputId": "1fb95b1f-4b8c-4c1f-ebf0-f96b447d24af"
   },
   "outputs": [
    {
     "data": {
      "text/plain": [
       "array([ 75022.70126879, -22304.36352472])"
      ]
     },
     "execution_count": 3,
     "metadata": {},
     "output_type": "execute_result"
    }
   ],
   "source": [
    "lr = LinearRegression()\n",
    "\n",
    "ames = pd.read_csv(\"https://www.dropbox.com/scl/fi/g0n5le5p6fr136ggetfsf/AmesHousing.csv?rlkey=jlr9xtz1o6u5rghfo29a5c02f&dl=1\")\n",
    "X = ames[[\"Gr Liv Area\", \"TotRms AbvGrd\"]]\n",
    "y = ames[\"SalePrice\"]\n",
    "\n",
    "X_train, X_test, y_train, y_test = train_test_split(X, y)\n",
    "\n",
    "X_train_s = (X_train - X_train.mean())/X_train.std()\n",
    "\n",
    "lr_fitted = lr.fit(X_train_s, y_train)\n",
    "lr_fitted.coef_"
   ]
  },
  {
   "cell_type": "code",
   "execution_count": 4,
   "metadata": {
    "colab": {
     "base_uri": "https://localhost:8080/"
    },
    "id": "whrOyhfY2aCE",
    "outputId": "680b2319-7493-4d7f-80af-b9b9c7b40855"
   },
   "outputs": [
    {
     "data": {
      "text/plain": [
       "-2186577.713755723"
      ]
     },
     "execution_count": 4,
     "metadata": {},
     "output_type": "execute_result"
    }
   ],
   "source": [
    "y_preds = lr_fitted.predict(X_test)\n",
    "\n",
    "r2_score(y_test, y_preds)"
   ]
  },
  {
   "cell_type": "markdown",
   "metadata": {
    "id": "epGkOn6Z3Vk2"
   },
   "source": [
    "### This is problematic because we have scaled our data for the training data, but we didn't scale our test data before predicting"
   ]
  },
  {
   "cell_type": "code",
   "execution_count": 5,
   "metadata": {
    "colab": {
     "base_uri": "https://localhost:8080/",
     "height": 81
    },
    "id": "sqyq6Y6D4Owc",
    "outputId": "085b1e50-486c-4b25-b89c-976d3de454f1"
   },
   "outputs": [
    {
     "data": {
      "text/html": [
       "<div>\n",
       "<style scoped>\n",
       "    .dataframe tbody tr th:only-of-type {\n",
       "        vertical-align: middle;\n",
       "    }\n",
       "\n",
       "    .dataframe tbody tr th {\n",
       "        vertical-align: top;\n",
       "    }\n",
       "\n",
       "    .dataframe thead th {\n",
       "        text-align: right;\n",
       "    }\n",
       "</style>\n",
       "<table border=\"1\" class=\"dataframe\">\n",
       "  <thead>\n",
       "    <tr style=\"text-align: right;\">\n",
       "      <th></th>\n",
       "      <th>Gr Liv Area</th>\n",
       "      <th>TotRms AbvGrd</th>\n",
       "    </tr>\n",
       "  </thead>\n",
       "  <tbody>\n",
       "    <tr>\n",
       "      <th>0</th>\n",
       "      <td>889</td>\n",
       "      <td>6</td>\n",
       "    </tr>\n",
       "  </tbody>\n",
       "</table>\n",
       "</div>"
      ],
      "text/plain": [
       "   Gr Liv Area  TotRms AbvGrd\n",
       "0          889              6"
      ]
     },
     "execution_count": 5,
     "metadata": {},
     "output_type": "execute_result"
    }
   ],
   "source": [
    "new_house = pd.DataFrame(data = {\"Gr Liv Area\": [889], \"TotRms AbvGrd\": [6]})\n",
    "new_house"
   ]
  },
  {
   "cell_type": "code",
   "execution_count": 6,
   "metadata": {
    "colab": {
     "base_uri": "https://localhost:8080/",
     "height": 81
    },
    "id": "whjO5Jbz4QrP",
    "outputId": "aeb2009c-8f76-446a-c32e-fd1783a2b8cd"
   },
   "outputs": [
    {
     "data": {
      "text/html": [
       "<div>\n",
       "<style scoped>\n",
       "    .dataframe tbody tr th:only-of-type {\n",
       "        vertical-align: middle;\n",
       "    }\n",
       "\n",
       "    .dataframe tbody tr th {\n",
       "        vertical-align: top;\n",
       "    }\n",
       "\n",
       "    .dataframe thead th {\n",
       "        text-align: right;\n",
       "    }\n",
       "</style>\n",
       "<table border=\"1\" class=\"dataframe\">\n",
       "  <thead>\n",
       "    <tr style=\"text-align: right;\">\n",
       "      <th></th>\n",
       "      <th>Gr Liv Area</th>\n",
       "      <th>TotRms AbvGrd</th>\n",
       "    </tr>\n",
       "  </thead>\n",
       "  <tbody>\n",
       "    <tr>\n",
       "      <th>0</th>\n",
       "      <td>NaN</td>\n",
       "      <td>NaN</td>\n",
       "    </tr>\n",
       "  </tbody>\n",
       "</table>\n",
       "</div>"
      ],
      "text/plain": [
       "   Gr Liv Area  TotRms AbvGrd\n",
       "0          NaN            NaN"
      ]
     },
     "execution_count": 6,
     "metadata": {},
     "output_type": "execute_result"
    }
   ],
   "source": [
    "new_house_s = (new_house - new_house.mean())/new_house.std()\n",
    "new_house_s"
   ]
  },
  {
   "cell_type": "markdown",
   "metadata": {
    "id": "eeXnzvI73ygG"
   },
   "source": [
    "#### We have to put our test data through the **exact** same calculations we put the training data through. This means, if we normalize the training data, we will normalize the testing data by subtracting the TRAINING mean and dividing by the TRAINING standard deviation."
   ]
  },
  {
   "cell_type": "code",
   "execution_count": 7,
   "metadata": {
    "colab": {
     "base_uri": "https://localhost:8080/"
    },
    "id": "o2XX8Gta2s-p",
    "outputId": "31358745-6937-48d2-d880-e2fa43c0b803"
   },
   "outputs": [
    {
     "data": {
      "text/plain": [
       "0.4287509270693476"
      ]
     },
     "execution_count": 7,
     "metadata": {},
     "output_type": "execute_result"
    }
   ],
   "source": [
    "X_test_s = (X_test - X_train.mean())/X_train.std()\n",
    "y_preds = lr_fitted.predict(X_test_s)\n",
    "\n",
    "r2_score(y_test, y_preds)"
   ]
  },
  {
   "cell_type": "code",
   "execution_count": 8,
   "metadata": {
    "colab": {
     "base_uri": "https://localhost:8080/"
    },
    "id": "XAlCo6Xs3x0T",
    "outputId": "43b5f5b8-46f9-442c-a0db-8af7d442b760"
   },
   "outputs": [
    {
     "data": {
      "text/plain": [
       "array([94057.18476423])"
      ]
     },
     "execution_count": 8,
     "metadata": {},
     "output_type": "execute_result"
    }
   ],
   "source": [
    "new_house_s = (new_house - X_train.mean())/X_train.std()\n",
    "lr_fitted.predict(new_house_s)"
   ]
  },
  {
   "cell_type": "markdown",
   "metadata": {
    "id": "85j9ohbj4YSi"
   },
   "source": [
    "#### Pipelines will set up a procedure of everything that happens to the data (excluding cleaning) before a model is is trained."
   ]
  },
  {
   "cell_type": "code",
   "execution_count": 9,
   "metadata": {
    "colab": {
     "base_uri": "https://localhost:8080/",
     "height": 75
    },
    "id": "G12Th9g54XWZ",
    "outputId": "456d4929-a6af-4305-e673-8887268a3917"
   },
   "outputs": [
    {
     "data": {
      "text/html": [
       "<style>#sk-container-id-1 {color: black;}#sk-container-id-1 pre{padding: 0;}#sk-container-id-1 div.sk-toggleable {background-color: white;}#sk-container-id-1 label.sk-toggleable__label {cursor: pointer;display: block;width: 100%;margin-bottom: 0;padding: 0.3em;box-sizing: border-box;text-align: center;}#sk-container-id-1 label.sk-toggleable__label-arrow:before {content: \"▸\";float: left;margin-right: 0.25em;color: #696969;}#sk-container-id-1 label.sk-toggleable__label-arrow:hover:before {color: black;}#sk-container-id-1 div.sk-estimator:hover label.sk-toggleable__label-arrow:before {color: black;}#sk-container-id-1 div.sk-toggleable__content {max-height: 0;max-width: 0;overflow: hidden;text-align: left;background-color: #f0f8ff;}#sk-container-id-1 div.sk-toggleable__content pre {margin: 0.2em;color: black;border-radius: 0.25em;background-color: #f0f8ff;}#sk-container-id-1 input.sk-toggleable__control:checked~div.sk-toggleable__content {max-height: 200px;max-width: 100%;overflow: auto;}#sk-container-id-1 input.sk-toggleable__control:checked~label.sk-toggleable__label-arrow:before {content: \"▾\";}#sk-container-id-1 div.sk-estimator input.sk-toggleable__control:checked~label.sk-toggleable__label {background-color: #d4ebff;}#sk-container-id-1 div.sk-label input.sk-toggleable__control:checked~label.sk-toggleable__label {background-color: #d4ebff;}#sk-container-id-1 input.sk-hidden--visually {border: 0;clip: rect(1px 1px 1px 1px);clip: rect(1px, 1px, 1px, 1px);height: 1px;margin: -1px;overflow: hidden;padding: 0;position: absolute;width: 1px;}#sk-container-id-1 div.sk-estimator {font-family: monospace;background-color: #f0f8ff;border: 1px dotted black;border-radius: 0.25em;box-sizing: border-box;margin-bottom: 0.5em;}#sk-container-id-1 div.sk-estimator:hover {background-color: #d4ebff;}#sk-container-id-1 div.sk-parallel-item::after {content: \"\";width: 100%;border-bottom: 1px solid gray;flex-grow: 1;}#sk-container-id-1 div.sk-label:hover label.sk-toggleable__label {background-color: #d4ebff;}#sk-container-id-1 div.sk-serial::before {content: \"\";position: absolute;border-left: 1px solid gray;box-sizing: border-box;top: 0;bottom: 0;left: 50%;z-index: 0;}#sk-container-id-1 div.sk-serial {display: flex;flex-direction: column;align-items: center;background-color: white;padding-right: 0.2em;padding-left: 0.2em;position: relative;}#sk-container-id-1 div.sk-item {position: relative;z-index: 1;}#sk-container-id-1 div.sk-parallel {display: flex;align-items: stretch;justify-content: center;background-color: white;position: relative;}#sk-container-id-1 div.sk-item::before, #sk-container-id-1 div.sk-parallel-item::before {content: \"\";position: absolute;border-left: 1px solid gray;box-sizing: border-box;top: 0;bottom: 0;left: 50%;z-index: -1;}#sk-container-id-1 div.sk-parallel-item {display: flex;flex-direction: column;z-index: 1;position: relative;background-color: white;}#sk-container-id-1 div.sk-parallel-item:first-child::after {align-self: flex-end;width: 50%;}#sk-container-id-1 div.sk-parallel-item:last-child::after {align-self: flex-start;width: 50%;}#sk-container-id-1 div.sk-parallel-item:only-child::after {width: 0;}#sk-container-id-1 div.sk-dashed-wrapped {border: 1px dashed gray;margin: 0 0.4em 0.5em 0.4em;box-sizing: border-box;padding-bottom: 0.4em;background-color: white;}#sk-container-id-1 div.sk-label label {font-family: monospace;font-weight: bold;display: inline-block;line-height: 1.2em;}#sk-container-id-1 div.sk-label-container {text-align: center;}#sk-container-id-1 div.sk-container {/* jupyter's `normalize.less` sets `[hidden] { display: none; }` but bootstrap.min.css set `[hidden] { display: none !important; }` so we also need the `!important` here to be able to override the default hidden behavior on the sphinx rendered scikit-learn.org. See: https://github.com/scikit-learn/scikit-learn/issues/21755 */display: inline-block !important;position: relative;}#sk-container-id-1 div.sk-text-repr-fallback {display: none;}</style><div id=\"sk-container-id-1\" class=\"sk-top-container\"><div class=\"sk-text-repr-fallback\"><pre>Pipeline(steps=[StandardScaler(), LinearRegression()])</pre><b>In a Jupyter environment, please rerun this cell to show the HTML representation or trust the notebook. <br />On GitHub, the HTML representation is unable to render, please try loading this page with nbviewer.org.</b></div><div class=\"sk-container\" hidden><div class=\"sk-item\"><div class=\"sk-estimator sk-toggleable\"><input class=\"sk-toggleable__control sk-hidden--visually\" id=\"sk-estimator-id-1\" type=\"checkbox\" checked><label for=\"sk-estimator-id-1\" class=\"sk-toggleable__label sk-toggleable__label-arrow\">Pipeline</label><div class=\"sk-toggleable__content\"><pre>Pipeline(steps=[StandardScaler(), LinearRegression()])</pre></div></div></div></div></div>"
      ],
      "text/plain": [
       "Pipeline(steps=[StandardScaler(), LinearRegression()])"
      ]
     },
     "execution_count": 9,
     "metadata": {},
     "output_type": "execute_result"
    }
   ],
   "source": [
    "lr_pipeline = Pipeline(\n",
    "  [StandardScaler(),\n",
    "   LinearRegression()]\n",
    ")\n",
    "\n",
    "lr_pipeline"
   ]
  },
  {
   "cell_type": "markdown",
   "metadata": {
    "id": "vwu73MTY4uI7"
   },
   "source": [
    "#### We can name our steps in our pipeline:"
   ]
  },
  {
   "cell_type": "code",
   "execution_count": 10,
   "metadata": {
    "colab": {
     "base_uri": "https://localhost:8080/",
     "height": 126
    },
    "id": "BmDn2gXX4MQD",
    "outputId": "49c7bbc3-99c9-4cf6-99e9-dea4fca5d181"
   },
   "outputs": [
    {
     "data": {
      "text/html": [
       "<style>#sk-container-id-2 {color: black;}#sk-container-id-2 pre{padding: 0;}#sk-container-id-2 div.sk-toggleable {background-color: white;}#sk-container-id-2 label.sk-toggleable__label {cursor: pointer;display: block;width: 100%;margin-bottom: 0;padding: 0.3em;box-sizing: border-box;text-align: center;}#sk-container-id-2 label.sk-toggleable__label-arrow:before {content: \"▸\";float: left;margin-right: 0.25em;color: #696969;}#sk-container-id-2 label.sk-toggleable__label-arrow:hover:before {color: black;}#sk-container-id-2 div.sk-estimator:hover label.sk-toggleable__label-arrow:before {color: black;}#sk-container-id-2 div.sk-toggleable__content {max-height: 0;max-width: 0;overflow: hidden;text-align: left;background-color: #f0f8ff;}#sk-container-id-2 div.sk-toggleable__content pre {margin: 0.2em;color: black;border-radius: 0.25em;background-color: #f0f8ff;}#sk-container-id-2 input.sk-toggleable__control:checked~div.sk-toggleable__content {max-height: 200px;max-width: 100%;overflow: auto;}#sk-container-id-2 input.sk-toggleable__control:checked~label.sk-toggleable__label-arrow:before {content: \"▾\";}#sk-container-id-2 div.sk-estimator input.sk-toggleable__control:checked~label.sk-toggleable__label {background-color: #d4ebff;}#sk-container-id-2 div.sk-label input.sk-toggleable__control:checked~label.sk-toggleable__label {background-color: #d4ebff;}#sk-container-id-2 input.sk-hidden--visually {border: 0;clip: rect(1px 1px 1px 1px);clip: rect(1px, 1px, 1px, 1px);height: 1px;margin: -1px;overflow: hidden;padding: 0;position: absolute;width: 1px;}#sk-container-id-2 div.sk-estimator {font-family: monospace;background-color: #f0f8ff;border: 1px dotted black;border-radius: 0.25em;box-sizing: border-box;margin-bottom: 0.5em;}#sk-container-id-2 div.sk-estimator:hover {background-color: #d4ebff;}#sk-container-id-2 div.sk-parallel-item::after {content: \"\";width: 100%;border-bottom: 1px solid gray;flex-grow: 1;}#sk-container-id-2 div.sk-label:hover label.sk-toggleable__label {background-color: #d4ebff;}#sk-container-id-2 div.sk-serial::before {content: \"\";position: absolute;border-left: 1px solid gray;box-sizing: border-box;top: 0;bottom: 0;left: 50%;z-index: 0;}#sk-container-id-2 div.sk-serial {display: flex;flex-direction: column;align-items: center;background-color: white;padding-right: 0.2em;padding-left: 0.2em;position: relative;}#sk-container-id-2 div.sk-item {position: relative;z-index: 1;}#sk-container-id-2 div.sk-parallel {display: flex;align-items: stretch;justify-content: center;background-color: white;position: relative;}#sk-container-id-2 div.sk-item::before, #sk-container-id-2 div.sk-parallel-item::before {content: \"\";position: absolute;border-left: 1px solid gray;box-sizing: border-box;top: 0;bottom: 0;left: 50%;z-index: -1;}#sk-container-id-2 div.sk-parallel-item {display: flex;flex-direction: column;z-index: 1;position: relative;background-color: white;}#sk-container-id-2 div.sk-parallel-item:first-child::after {align-self: flex-end;width: 50%;}#sk-container-id-2 div.sk-parallel-item:last-child::after {align-self: flex-start;width: 50%;}#sk-container-id-2 div.sk-parallel-item:only-child::after {width: 0;}#sk-container-id-2 div.sk-dashed-wrapped {border: 1px dashed gray;margin: 0 0.4em 0.5em 0.4em;box-sizing: border-box;padding-bottom: 0.4em;background-color: white;}#sk-container-id-2 div.sk-label label {font-family: monospace;font-weight: bold;display: inline-block;line-height: 1.2em;}#sk-container-id-2 div.sk-label-container {text-align: center;}#sk-container-id-2 div.sk-container {/* jupyter's `normalize.less` sets `[hidden] { display: none; }` but bootstrap.min.css set `[hidden] { display: none !important; }` so we also need the `!important` here to be able to override the default hidden behavior on the sphinx rendered scikit-learn.org. See: https://github.com/scikit-learn/scikit-learn/issues/21755 */display: inline-block !important;position: relative;}#sk-container-id-2 div.sk-text-repr-fallback {display: none;}</style><div id=\"sk-container-id-2\" class=\"sk-top-container\"><div class=\"sk-text-repr-fallback\"><pre>Pipeline(steps=[(&#x27;standardize&#x27;, StandardScaler()),\n",
       "                (&#x27;linear_regression&#x27;, LinearRegression())])</pre><b>In a Jupyter environment, please rerun this cell to show the HTML representation or trust the notebook. <br />On GitHub, the HTML representation is unable to render, please try loading this page with nbviewer.org.</b></div><div class=\"sk-container\" hidden><div class=\"sk-item sk-dashed-wrapped\"><div class=\"sk-label-container\"><div class=\"sk-label sk-toggleable\"><input class=\"sk-toggleable__control sk-hidden--visually\" id=\"sk-estimator-id-2\" type=\"checkbox\" ><label for=\"sk-estimator-id-2\" class=\"sk-toggleable__label sk-toggleable__label-arrow\">Pipeline</label><div class=\"sk-toggleable__content\"><pre>Pipeline(steps=[(&#x27;standardize&#x27;, StandardScaler()),\n",
       "                (&#x27;linear_regression&#x27;, LinearRegression())])</pre></div></div></div><div class=\"sk-serial\"><div class=\"sk-item\"><div class=\"sk-estimator sk-toggleable\"><input class=\"sk-toggleable__control sk-hidden--visually\" id=\"sk-estimator-id-3\" type=\"checkbox\" ><label for=\"sk-estimator-id-3\" class=\"sk-toggleable__label sk-toggleable__label-arrow\">StandardScaler</label><div class=\"sk-toggleable__content\"><pre>StandardScaler()</pre></div></div></div><div class=\"sk-item\"><div class=\"sk-estimator sk-toggleable\"><input class=\"sk-toggleable__control sk-hidden--visually\" id=\"sk-estimator-id-4\" type=\"checkbox\" ><label for=\"sk-estimator-id-4\" class=\"sk-toggleable__label sk-toggleable__label-arrow\">LinearRegression</label><div class=\"sk-toggleable__content\"><pre>LinearRegression()</pre></div></div></div></div></div></div></div>"
      ],
      "text/plain": [
       "Pipeline(steps=[('standardize', StandardScaler()),\n",
       "                ('linear_regression', LinearRegression())])"
      ]
     },
     "execution_count": 10,
     "metadata": {},
     "output_type": "execute_result"
    }
   ],
   "source": [
    "lr_pipeline = Pipeline(\n",
    "  [(\"standardize\", StandardScaler()),\n",
    "  (\"linear_regression\", LinearRegression())]\n",
    ")\n",
    "\n",
    "lr_pipeline"
   ]
  },
  {
   "cell_type": "code",
   "execution_count": 11,
   "metadata": {
    "colab": {
     "base_uri": "https://localhost:8080/"
    },
    "id": "M1Ah-GHH4zm8",
    "outputId": "75b4474d-4018-4312-9603-a17fb429327f"
   },
   "outputs": [
    {
     "data": {
      "text/plain": [
       "0.42875092706934737"
      ]
     },
     "execution_count": 11,
     "metadata": {},
     "output_type": "execute_result"
    }
   ],
   "source": [
    "lr_pipeline_fitted = lr_pipeline.fit(X_train, y_train)\n",
    "\n",
    "y_preds = lr_pipeline_fitted.predict(X_test)\n",
    "r2_score(y_test, y_preds)"
   ]
  },
  {
   "cell_type": "code",
   "execution_count": 12,
   "metadata": {
    "colab": {
     "base_uri": "https://localhost:8080/"
    },
    "id": "CoHS17VN475c",
    "outputId": "712358a3-f569-4f70-a143-f8116326a1ab"
   },
   "outputs": [
    {
     "data": {
      "text/plain": [
       "array([94057.18476423])"
      ]
     },
     "execution_count": 12,
     "metadata": {},
     "output_type": "execute_result"
    }
   ],
   "source": [
    "lr_pipeline_fitted.predict(new_house)"
   ]
  },
  {
   "cell_type": "markdown",
   "metadata": {
    "id": "JKiHBhQh5V4H"
   },
   "source": [
    "#### Column Transformers:\n",
    "- Like a pipeline, but is applied to only specific columns in the dataframe\n",
    "- remainder = \"drop\" says to get rid of all the extra columns which are not specified in the column transformer."
   ]
  },
  {
   "cell_type": "code",
   "execution_count": 13,
   "metadata": {
    "colab": {
     "base_uri": "https://localhost:8080/",
     "height": 192
    },
    "id": "ESyVpkkF48PC",
    "outputId": "85620bfb-ae52-4092-b4c5-7cedd0435c9e"
   },
   "outputs": [
    {
     "data": {
      "text/html": [
       "<style>#sk-container-id-3 {color: black;}#sk-container-id-3 pre{padding: 0;}#sk-container-id-3 div.sk-toggleable {background-color: white;}#sk-container-id-3 label.sk-toggleable__label {cursor: pointer;display: block;width: 100%;margin-bottom: 0;padding: 0.3em;box-sizing: border-box;text-align: center;}#sk-container-id-3 label.sk-toggleable__label-arrow:before {content: \"▸\";float: left;margin-right: 0.25em;color: #696969;}#sk-container-id-3 label.sk-toggleable__label-arrow:hover:before {color: black;}#sk-container-id-3 div.sk-estimator:hover label.sk-toggleable__label-arrow:before {color: black;}#sk-container-id-3 div.sk-toggleable__content {max-height: 0;max-width: 0;overflow: hidden;text-align: left;background-color: #f0f8ff;}#sk-container-id-3 div.sk-toggleable__content pre {margin: 0.2em;color: black;border-radius: 0.25em;background-color: #f0f8ff;}#sk-container-id-3 input.sk-toggleable__control:checked~div.sk-toggleable__content {max-height: 200px;max-width: 100%;overflow: auto;}#sk-container-id-3 input.sk-toggleable__control:checked~label.sk-toggleable__label-arrow:before {content: \"▾\";}#sk-container-id-3 div.sk-estimator input.sk-toggleable__control:checked~label.sk-toggleable__label {background-color: #d4ebff;}#sk-container-id-3 div.sk-label input.sk-toggleable__control:checked~label.sk-toggleable__label {background-color: #d4ebff;}#sk-container-id-3 input.sk-hidden--visually {border: 0;clip: rect(1px 1px 1px 1px);clip: rect(1px, 1px, 1px, 1px);height: 1px;margin: -1px;overflow: hidden;padding: 0;position: absolute;width: 1px;}#sk-container-id-3 div.sk-estimator {font-family: monospace;background-color: #f0f8ff;border: 1px dotted black;border-radius: 0.25em;box-sizing: border-box;margin-bottom: 0.5em;}#sk-container-id-3 div.sk-estimator:hover {background-color: #d4ebff;}#sk-container-id-3 div.sk-parallel-item::after {content: \"\";width: 100%;border-bottom: 1px solid gray;flex-grow: 1;}#sk-container-id-3 div.sk-label:hover label.sk-toggleable__label {background-color: #d4ebff;}#sk-container-id-3 div.sk-serial::before {content: \"\";position: absolute;border-left: 1px solid gray;box-sizing: border-box;top: 0;bottom: 0;left: 50%;z-index: 0;}#sk-container-id-3 div.sk-serial {display: flex;flex-direction: column;align-items: center;background-color: white;padding-right: 0.2em;padding-left: 0.2em;position: relative;}#sk-container-id-3 div.sk-item {position: relative;z-index: 1;}#sk-container-id-3 div.sk-parallel {display: flex;align-items: stretch;justify-content: center;background-color: white;position: relative;}#sk-container-id-3 div.sk-item::before, #sk-container-id-3 div.sk-parallel-item::before {content: \"\";position: absolute;border-left: 1px solid gray;box-sizing: border-box;top: 0;bottom: 0;left: 50%;z-index: -1;}#sk-container-id-3 div.sk-parallel-item {display: flex;flex-direction: column;z-index: 1;position: relative;background-color: white;}#sk-container-id-3 div.sk-parallel-item:first-child::after {align-self: flex-end;width: 50%;}#sk-container-id-3 div.sk-parallel-item:last-child::after {align-self: flex-start;width: 50%;}#sk-container-id-3 div.sk-parallel-item:only-child::after {width: 0;}#sk-container-id-3 div.sk-dashed-wrapped {border: 1px dashed gray;margin: 0 0.4em 0.5em 0.4em;box-sizing: border-box;padding-bottom: 0.4em;background-color: white;}#sk-container-id-3 div.sk-label label {font-family: monospace;font-weight: bold;display: inline-block;line-height: 1.2em;}#sk-container-id-3 div.sk-label-container {text-align: center;}#sk-container-id-3 div.sk-container {/* jupyter's `normalize.less` sets `[hidden] { display: none; }` but bootstrap.min.css set `[hidden] { display: none !important; }` so we also need the `!important` here to be able to override the default hidden behavior on the sphinx rendered scikit-learn.org. See: https://github.com/scikit-learn/scikit-learn/issues/21755 */display: inline-block !important;position: relative;}#sk-container-id-3 div.sk-text-repr-fallback {display: none;}</style><div id=\"sk-container-id-3\" class=\"sk-top-container\"><div class=\"sk-text-repr-fallback\"><pre>Pipeline(steps=[(&#x27;preprocessing&#x27;,\n",
       "                 ColumnTransformer(transformers=[(&#x27;dummify&#x27;,\n",
       "                                                  OneHotEncoder(sparse_output=False),\n",
       "                                                  [&#x27;Bldg Type&#x27;]),\n",
       "                                                 (&#x27;standardize&#x27;,\n",
       "                                                  StandardScaler(),\n",
       "                                                  [&#x27;Gr Liv Area&#x27;,\n",
       "                                                   &#x27;TotRms AbvGrd&#x27;])])),\n",
       "                (&#x27;linear_regression&#x27;, LinearRegression())])</pre><b>In a Jupyter environment, please rerun this cell to show the HTML representation or trust the notebook. <br />On GitHub, the HTML representation is unable to render, please try loading this page with nbviewer.org.</b></div><div class=\"sk-container\" hidden><div class=\"sk-item sk-dashed-wrapped\"><div class=\"sk-label-container\"><div class=\"sk-label sk-toggleable\"><input class=\"sk-toggleable__control sk-hidden--visually\" id=\"sk-estimator-id-5\" type=\"checkbox\" ><label for=\"sk-estimator-id-5\" class=\"sk-toggleable__label sk-toggleable__label-arrow\">Pipeline</label><div class=\"sk-toggleable__content\"><pre>Pipeline(steps=[(&#x27;preprocessing&#x27;,\n",
       "                 ColumnTransformer(transformers=[(&#x27;dummify&#x27;,\n",
       "                                                  OneHotEncoder(sparse_output=False),\n",
       "                                                  [&#x27;Bldg Type&#x27;]),\n",
       "                                                 (&#x27;standardize&#x27;,\n",
       "                                                  StandardScaler(),\n",
       "                                                  [&#x27;Gr Liv Area&#x27;,\n",
       "                                                   &#x27;TotRms AbvGrd&#x27;])])),\n",
       "                (&#x27;linear_regression&#x27;, LinearRegression())])</pre></div></div></div><div class=\"sk-serial\"><div class=\"sk-item sk-dashed-wrapped\"><div class=\"sk-label-container\"><div class=\"sk-label sk-toggleable\"><input class=\"sk-toggleable__control sk-hidden--visually\" id=\"sk-estimator-id-6\" type=\"checkbox\" ><label for=\"sk-estimator-id-6\" class=\"sk-toggleable__label sk-toggleable__label-arrow\">preprocessing: ColumnTransformer</label><div class=\"sk-toggleable__content\"><pre>ColumnTransformer(transformers=[(&#x27;dummify&#x27;, OneHotEncoder(sparse_output=False),\n",
       "                                 [&#x27;Bldg Type&#x27;]),\n",
       "                                (&#x27;standardize&#x27;, StandardScaler(),\n",
       "                                 [&#x27;Gr Liv Area&#x27;, &#x27;TotRms AbvGrd&#x27;])])</pre></div></div></div><div class=\"sk-parallel\"><div class=\"sk-parallel-item\"><div class=\"sk-item\"><div class=\"sk-label-container\"><div class=\"sk-label sk-toggleable\"><input class=\"sk-toggleable__control sk-hidden--visually\" id=\"sk-estimator-id-7\" type=\"checkbox\" ><label for=\"sk-estimator-id-7\" class=\"sk-toggleable__label sk-toggleable__label-arrow\">dummify</label><div class=\"sk-toggleable__content\"><pre>[&#x27;Bldg Type&#x27;]</pre></div></div></div><div class=\"sk-serial\"><div class=\"sk-item\"><div class=\"sk-estimator sk-toggleable\"><input class=\"sk-toggleable__control sk-hidden--visually\" id=\"sk-estimator-id-8\" type=\"checkbox\" ><label for=\"sk-estimator-id-8\" class=\"sk-toggleable__label sk-toggleable__label-arrow\">OneHotEncoder</label><div class=\"sk-toggleable__content\"><pre>OneHotEncoder(sparse_output=False)</pre></div></div></div></div></div></div><div class=\"sk-parallel-item\"><div class=\"sk-item\"><div class=\"sk-label-container\"><div class=\"sk-label sk-toggleable\"><input class=\"sk-toggleable__control sk-hidden--visually\" id=\"sk-estimator-id-9\" type=\"checkbox\" ><label for=\"sk-estimator-id-9\" class=\"sk-toggleable__label sk-toggleable__label-arrow\">standardize</label><div class=\"sk-toggleable__content\"><pre>[&#x27;Gr Liv Area&#x27;, &#x27;TotRms AbvGrd&#x27;]</pre></div></div></div><div class=\"sk-serial\"><div class=\"sk-item\"><div class=\"sk-estimator sk-toggleable\"><input class=\"sk-toggleable__control sk-hidden--visually\" id=\"sk-estimator-id-10\" type=\"checkbox\" ><label for=\"sk-estimator-id-10\" class=\"sk-toggleable__label sk-toggleable__label-arrow\">StandardScaler</label><div class=\"sk-toggleable__content\"><pre>StandardScaler()</pre></div></div></div></div></div></div></div></div><div class=\"sk-item\"><div class=\"sk-estimator sk-toggleable\"><input class=\"sk-toggleable__control sk-hidden--visually\" id=\"sk-estimator-id-11\" type=\"checkbox\" ><label for=\"sk-estimator-id-11\" class=\"sk-toggleable__label sk-toggleable__label-arrow\">LinearRegression</label><div class=\"sk-toggleable__content\"><pre>LinearRegression()</pre></div></div></div></div></div></div></div>"
      ],
      "text/plain": [
       "Pipeline(steps=[('preprocessing',\n",
       "                 ColumnTransformer(transformers=[('dummify',\n",
       "                                                  OneHotEncoder(sparse_output=False),\n",
       "                                                  ['Bldg Type']),\n",
       "                                                 ('standardize',\n",
       "                                                  StandardScaler(),\n",
       "                                                  ['Gr Liv Area',\n",
       "                                                   'TotRms AbvGrd'])])),\n",
       "                ('linear_regression', LinearRegression())])"
      ]
     },
     "execution_count": 13,
     "metadata": {},
     "output_type": "execute_result"
    }
   ],
   "source": [
    "from sklearn.compose import ColumnTransformer\n",
    "\n",
    "ct = ColumnTransformer(\n",
    "  [\n",
    "    (\"dummify\", OneHotEncoder(sparse_output = False), [\"Bldg Type\"]),\n",
    "    (\"standardize\", StandardScaler(), [\"Gr Liv Area\", \"TotRms AbvGrd\"])\n",
    "  ],\n",
    "  remainder = \"drop\"\n",
    ")\n",
    "\n",
    "\n",
    "lr_pipeline = Pipeline(\n",
    "  [(\"preprocessing\", ct),\n",
    "  (\"linear_regression\", LinearRegression())]\n",
    ")\n",
    "\n",
    "lr_pipeline"
   ]
  },
  {
   "cell_type": "code",
   "execution_count": 14,
   "metadata": {
    "colab": {
     "base_uri": "https://localhost:8080/",
     "height": 192
    },
    "id": "98O1qfkQ6FUy",
    "outputId": "c832f2a4-5f06-4dc3-cf56-5ec39210c06a"
   },
   "outputs": [
    {
     "data": {
      "text/html": [
       "<style>#sk-container-id-4 {color: black;}#sk-container-id-4 pre{padding: 0;}#sk-container-id-4 div.sk-toggleable {background-color: white;}#sk-container-id-4 label.sk-toggleable__label {cursor: pointer;display: block;width: 100%;margin-bottom: 0;padding: 0.3em;box-sizing: border-box;text-align: center;}#sk-container-id-4 label.sk-toggleable__label-arrow:before {content: \"▸\";float: left;margin-right: 0.25em;color: #696969;}#sk-container-id-4 label.sk-toggleable__label-arrow:hover:before {color: black;}#sk-container-id-4 div.sk-estimator:hover label.sk-toggleable__label-arrow:before {color: black;}#sk-container-id-4 div.sk-toggleable__content {max-height: 0;max-width: 0;overflow: hidden;text-align: left;background-color: #f0f8ff;}#sk-container-id-4 div.sk-toggleable__content pre {margin: 0.2em;color: black;border-radius: 0.25em;background-color: #f0f8ff;}#sk-container-id-4 input.sk-toggleable__control:checked~div.sk-toggleable__content {max-height: 200px;max-width: 100%;overflow: auto;}#sk-container-id-4 input.sk-toggleable__control:checked~label.sk-toggleable__label-arrow:before {content: \"▾\";}#sk-container-id-4 div.sk-estimator input.sk-toggleable__control:checked~label.sk-toggleable__label {background-color: #d4ebff;}#sk-container-id-4 div.sk-label input.sk-toggleable__control:checked~label.sk-toggleable__label {background-color: #d4ebff;}#sk-container-id-4 input.sk-hidden--visually {border: 0;clip: rect(1px 1px 1px 1px);clip: rect(1px, 1px, 1px, 1px);height: 1px;margin: -1px;overflow: hidden;padding: 0;position: absolute;width: 1px;}#sk-container-id-4 div.sk-estimator {font-family: monospace;background-color: #f0f8ff;border: 1px dotted black;border-radius: 0.25em;box-sizing: border-box;margin-bottom: 0.5em;}#sk-container-id-4 div.sk-estimator:hover {background-color: #d4ebff;}#sk-container-id-4 div.sk-parallel-item::after {content: \"\";width: 100%;border-bottom: 1px solid gray;flex-grow: 1;}#sk-container-id-4 div.sk-label:hover label.sk-toggleable__label {background-color: #d4ebff;}#sk-container-id-4 div.sk-serial::before {content: \"\";position: absolute;border-left: 1px solid gray;box-sizing: border-box;top: 0;bottom: 0;left: 50%;z-index: 0;}#sk-container-id-4 div.sk-serial {display: flex;flex-direction: column;align-items: center;background-color: white;padding-right: 0.2em;padding-left: 0.2em;position: relative;}#sk-container-id-4 div.sk-item {position: relative;z-index: 1;}#sk-container-id-4 div.sk-parallel {display: flex;align-items: stretch;justify-content: center;background-color: white;position: relative;}#sk-container-id-4 div.sk-item::before, #sk-container-id-4 div.sk-parallel-item::before {content: \"\";position: absolute;border-left: 1px solid gray;box-sizing: border-box;top: 0;bottom: 0;left: 50%;z-index: -1;}#sk-container-id-4 div.sk-parallel-item {display: flex;flex-direction: column;z-index: 1;position: relative;background-color: white;}#sk-container-id-4 div.sk-parallel-item:first-child::after {align-self: flex-end;width: 50%;}#sk-container-id-4 div.sk-parallel-item:last-child::after {align-self: flex-start;width: 50%;}#sk-container-id-4 div.sk-parallel-item:only-child::after {width: 0;}#sk-container-id-4 div.sk-dashed-wrapped {border: 1px dashed gray;margin: 0 0.4em 0.5em 0.4em;box-sizing: border-box;padding-bottom: 0.4em;background-color: white;}#sk-container-id-4 div.sk-label label {font-family: monospace;font-weight: bold;display: inline-block;line-height: 1.2em;}#sk-container-id-4 div.sk-label-container {text-align: center;}#sk-container-id-4 div.sk-container {/* jupyter's `normalize.less` sets `[hidden] { display: none; }` but bootstrap.min.css set `[hidden] { display: none !important; }` so we also need the `!important` here to be able to override the default hidden behavior on the sphinx rendered scikit-learn.org. See: https://github.com/scikit-learn/scikit-learn/issues/21755 */display: inline-block !important;position: relative;}#sk-container-id-4 div.sk-text-repr-fallback {display: none;}</style><div id=\"sk-container-id-4\" class=\"sk-top-container\"><div class=\"sk-text-repr-fallback\"><pre>Pipeline(steps=[(&#x27;preprocessing&#x27;,\n",
       "                 ColumnTransformer(transformers=[(&#x27;dummify&#x27;,\n",
       "                                                  OneHotEncoder(sparse_output=False),\n",
       "                                                  [&#x27;Bldg Type&#x27;]),\n",
       "                                                 (&#x27;standardize&#x27;,\n",
       "                                                  StandardScaler(),\n",
       "                                                  [&#x27;Gr Liv Area&#x27;,\n",
       "                                                   &#x27;TotRms AbvGrd&#x27;])])),\n",
       "                (&#x27;linear_regression&#x27;, LinearRegression())])</pre><b>In a Jupyter environment, please rerun this cell to show the HTML representation or trust the notebook. <br />On GitHub, the HTML representation is unable to render, please try loading this page with nbviewer.org.</b></div><div class=\"sk-container\" hidden><div class=\"sk-item sk-dashed-wrapped\"><div class=\"sk-label-container\"><div class=\"sk-label sk-toggleable\"><input class=\"sk-toggleable__control sk-hidden--visually\" id=\"sk-estimator-id-12\" type=\"checkbox\" ><label for=\"sk-estimator-id-12\" class=\"sk-toggleable__label sk-toggleable__label-arrow\">Pipeline</label><div class=\"sk-toggleable__content\"><pre>Pipeline(steps=[(&#x27;preprocessing&#x27;,\n",
       "                 ColumnTransformer(transformers=[(&#x27;dummify&#x27;,\n",
       "                                                  OneHotEncoder(sparse_output=False),\n",
       "                                                  [&#x27;Bldg Type&#x27;]),\n",
       "                                                 (&#x27;standardize&#x27;,\n",
       "                                                  StandardScaler(),\n",
       "                                                  [&#x27;Gr Liv Area&#x27;,\n",
       "                                                   &#x27;TotRms AbvGrd&#x27;])])),\n",
       "                (&#x27;linear_regression&#x27;, LinearRegression())])</pre></div></div></div><div class=\"sk-serial\"><div class=\"sk-item sk-dashed-wrapped\"><div class=\"sk-label-container\"><div class=\"sk-label sk-toggleable\"><input class=\"sk-toggleable__control sk-hidden--visually\" id=\"sk-estimator-id-13\" type=\"checkbox\" ><label for=\"sk-estimator-id-13\" class=\"sk-toggleable__label sk-toggleable__label-arrow\">preprocessing: ColumnTransformer</label><div class=\"sk-toggleable__content\"><pre>ColumnTransformer(transformers=[(&#x27;dummify&#x27;, OneHotEncoder(sparse_output=False),\n",
       "                                 [&#x27;Bldg Type&#x27;]),\n",
       "                                (&#x27;standardize&#x27;, StandardScaler(),\n",
       "                                 [&#x27;Gr Liv Area&#x27;, &#x27;TotRms AbvGrd&#x27;])])</pre></div></div></div><div class=\"sk-parallel\"><div class=\"sk-parallel-item\"><div class=\"sk-item\"><div class=\"sk-label-container\"><div class=\"sk-label sk-toggleable\"><input class=\"sk-toggleable__control sk-hidden--visually\" id=\"sk-estimator-id-14\" type=\"checkbox\" ><label for=\"sk-estimator-id-14\" class=\"sk-toggleable__label sk-toggleable__label-arrow\">dummify</label><div class=\"sk-toggleable__content\"><pre>[&#x27;Bldg Type&#x27;]</pre></div></div></div><div class=\"sk-serial\"><div class=\"sk-item\"><div class=\"sk-estimator sk-toggleable\"><input class=\"sk-toggleable__control sk-hidden--visually\" id=\"sk-estimator-id-15\" type=\"checkbox\" ><label for=\"sk-estimator-id-15\" class=\"sk-toggleable__label sk-toggleable__label-arrow\">OneHotEncoder</label><div class=\"sk-toggleable__content\"><pre>OneHotEncoder(sparse_output=False)</pre></div></div></div></div></div></div><div class=\"sk-parallel-item\"><div class=\"sk-item\"><div class=\"sk-label-container\"><div class=\"sk-label sk-toggleable\"><input class=\"sk-toggleable__control sk-hidden--visually\" id=\"sk-estimator-id-16\" type=\"checkbox\" ><label for=\"sk-estimator-id-16\" class=\"sk-toggleable__label sk-toggleable__label-arrow\">standardize</label><div class=\"sk-toggleable__content\"><pre>[&#x27;Gr Liv Area&#x27;, &#x27;TotRms AbvGrd&#x27;]</pre></div></div></div><div class=\"sk-serial\"><div class=\"sk-item\"><div class=\"sk-estimator sk-toggleable\"><input class=\"sk-toggleable__control sk-hidden--visually\" id=\"sk-estimator-id-17\" type=\"checkbox\" ><label for=\"sk-estimator-id-17\" class=\"sk-toggleable__label sk-toggleable__label-arrow\">StandardScaler</label><div class=\"sk-toggleable__content\"><pre>StandardScaler()</pre></div></div></div></div></div></div></div></div><div class=\"sk-item\"><div class=\"sk-estimator sk-toggleable\"><input class=\"sk-toggleable__control sk-hidden--visually\" id=\"sk-estimator-id-18\" type=\"checkbox\" ><label for=\"sk-estimator-id-18\" class=\"sk-toggleable__label sk-toggleable__label-arrow\">LinearRegression</label><div class=\"sk-toggleable__content\"><pre>LinearRegression()</pre></div></div></div></div></div></div></div>"
      ],
      "text/plain": [
       "Pipeline(steps=[('preprocessing',\n",
       "                 ColumnTransformer(transformers=[('dummify',\n",
       "                                                  OneHotEncoder(sparse_output=False),\n",
       "                                                  ['Bldg Type']),\n",
       "                                                 ('standardize',\n",
       "                                                  StandardScaler(),\n",
       "                                                  ['Gr Liv Area',\n",
       "                                                   'TotRms AbvGrd'])])),\n",
       "                ('linear_regression', LinearRegression())])"
      ]
     },
     "execution_count": 14,
     "metadata": {},
     "output_type": "execute_result"
    }
   ],
   "source": [
    "X = ames.drop(\"SalePrice\", axis = 1)\n",
    "y = ames[\"SalePrice\"]\n",
    "\n",
    "X_train, X_test, y_train, y_test = train_test_split(X, y)\n",
    "\n",
    "lr_fitted = lr_pipeline.fit(X_train, y_train)\n",
    "lr_fitted"
   ]
  },
  {
   "cell_type": "markdown",
   "metadata": {
    "id": "wLjHKu6D8tEW"
   },
   "source": [
    "#### We can fit a column transformer directly on the dataset to see what the transformed dataset will look like."
   ]
  },
  {
   "cell_type": "code",
   "execution_count": 15,
   "metadata": {
    "colab": {
     "base_uri": "https://localhost:8080/"
    },
    "id": "cxop-32R8oeh",
    "outputId": "6a01df38-7bc8-4fe1-d48d-bff313d5ae12"
   },
   "outputs": [
    {
     "data": {
      "text/plain": [
       "array([[ 1.        ,  0.        ,  0.        , ...,  0.        ,\n",
       "         0.66741485,  0.35986586],\n",
       "       [ 1.        ,  0.        ,  0.        , ...,  0.        ,\n",
       "        -0.6290322 , -0.27314078],\n",
       "       [ 1.        ,  0.        ,  0.        , ...,  0.        ,\n",
       "        -0.42736266, -0.27314078],\n",
       "       ...,\n",
       "       [ 1.        ,  0.        ,  0.        , ...,  0.        ,\n",
       "         4.16494089,  0.35986586],\n",
       "       [ 1.        ,  0.        ,  0.        , ...,  0.        ,\n",
       "         0.87676704,  0.9928725 ],\n",
       "       [ 1.        ,  0.        ,  0.        , ...,  0.        ,\n",
       "         0.03743762,  0.35986586]])"
      ]
     },
     "execution_count": 15,
     "metadata": {},
     "output_type": "execute_result"
    }
   ],
   "source": [
    "ct_fitted = ct.fit(X_train)\n",
    "\n",
    "ct.transform(X_train)"
   ]
  },
  {
   "cell_type": "code",
   "execution_count": 16,
   "metadata": {
    "colab": {
     "base_uri": "https://localhost:8080/"
    },
    "id": "VXu2CBNB8pjU",
    "outputId": "6c38da00-1b58-4d95-f8a4-f83ae9f35139"
   },
   "outputs": [
    {
     "data": {
      "text/plain": [
       "array([[ 1.        ,  0.        ,  0.        , ...,  0.        ,\n",
       "         0.66549419,  0.35986586],\n",
       "       [ 1.        ,  0.        ,  0.        , ...,  0.        ,\n",
       "        -1.36656652, -0.90614742],\n",
       "       [ 1.        ,  0.        ,  0.        , ...,  0.        ,\n",
       "        -0.46001392,  0.35986586],\n",
       "       ...,\n",
       "       [ 1.        ,  0.        ,  0.        , ...,  0.        ,\n",
       "        -0.36013948, -0.27314078],\n",
       "       [ 1.        ,  0.        ,  0.        , ...,  0.        ,\n",
       "         0.93822823,  0.35986586],\n",
       "       [ 1.        ,  0.        ,  0.        , ...,  0.        ,\n",
       "        -0.42928332, -0.27314078]])"
      ]
     },
     "execution_count": 16,
     "metadata": {},
     "output_type": "execute_result"
    }
   ],
   "source": [
    "ct.transform(X_test)"
   ]
  },
  {
   "cell_type": "markdown",
   "metadata": {
    "id": "KDYb0GMp9G4Y"
   },
   "source": [
    "### Challenges:\n",
    "- We used to be able to call `fitted_model.coef_` to get out the coefficients of a model.\n",
    "- In a pipeline you have to call the named step to get out the coefficients: `fitted_pipeline.named_steps[\"lr\"].coef_`\n",
    "- Most of the outputs are numpy arrays, and that can be hard to see the results. Therefore we can use the `.set_output(transform=\"pandas\")` to see the output as a pandas dataframe.\n"
   ]
  },
  {
   "cell_type": "code",
   "execution_count": 17,
   "metadata": {
    "colab": {
     "base_uri": "https://localhost:8080/",
     "height": 441
    },
    "id": "sz8BFRIV8sPQ",
    "outputId": "9bcce555-78bb-40b8-f9ee-013e08a249d6"
   },
   "outputs": [
    {
     "data": {
      "text/html": [
       "<div>\n",
       "<style scoped>\n",
       "    .dataframe tbody tr th:only-of-type {\n",
       "        vertical-align: middle;\n",
       "    }\n",
       "\n",
       "    .dataframe tbody tr th {\n",
       "        vertical-align: top;\n",
       "    }\n",
       "\n",
       "    .dataframe thead th {\n",
       "        text-align: right;\n",
       "    }\n",
       "</style>\n",
       "<table border=\"1\" class=\"dataframe\">\n",
       "  <thead>\n",
       "    <tr style=\"text-align: right;\">\n",
       "      <th></th>\n",
       "      <th>dummify__Bldg Type_1Fam</th>\n",
       "      <th>dummify__Bldg Type_2fmCon</th>\n",
       "      <th>dummify__Bldg Type_Duplex</th>\n",
       "      <th>dummify__Bldg Type_Twnhs</th>\n",
       "      <th>dummify__Bldg Type_TwnhsE</th>\n",
       "      <th>standardize__Gr Liv Area</th>\n",
       "      <th>standardize__TotRms AbvGrd</th>\n",
       "    </tr>\n",
       "  </thead>\n",
       "  <tbody>\n",
       "    <tr>\n",
       "      <th>1969</th>\n",
       "      <td>1.0</td>\n",
       "      <td>0.0</td>\n",
       "      <td>0.0</td>\n",
       "      <td>0.0</td>\n",
       "      <td>0.0</td>\n",
       "      <td>0.667415</td>\n",
       "      <td>0.359866</td>\n",
       "    </tr>\n",
       "    <tr>\n",
       "      <th>1237</th>\n",
       "      <td>1.0</td>\n",
       "      <td>0.0</td>\n",
       "      <td>0.0</td>\n",
       "      <td>0.0</td>\n",
       "      <td>0.0</td>\n",
       "      <td>-0.629032</td>\n",
       "      <td>-0.273141</td>\n",
       "    </tr>\n",
       "    <tr>\n",
       "      <th>1948</th>\n",
       "      <td>1.0</td>\n",
       "      <td>0.0</td>\n",
       "      <td>0.0</td>\n",
       "      <td>0.0</td>\n",
       "      <td>0.0</td>\n",
       "      <td>-0.427363</td>\n",
       "      <td>-0.273141</td>\n",
       "    </tr>\n",
       "    <tr>\n",
       "      <th>2810</th>\n",
       "      <td>1.0</td>\n",
       "      <td>0.0</td>\n",
       "      <td>0.0</td>\n",
       "      <td>0.0</td>\n",
       "      <td>0.0</td>\n",
       "      <td>0.093137</td>\n",
       "      <td>0.359866</td>\n",
       "    </tr>\n",
       "    <tr>\n",
       "      <th>696</th>\n",
       "      <td>1.0</td>\n",
       "      <td>0.0</td>\n",
       "      <td>0.0</td>\n",
       "      <td>0.0</td>\n",
       "      <td>0.0</td>\n",
       "      <td>-0.379346</td>\n",
       "      <td>-0.273141</td>\n",
       "    </tr>\n",
       "    <tr>\n",
       "      <th>...</th>\n",
       "      <td>...</td>\n",
       "      <td>...</td>\n",
       "      <td>...</td>\n",
       "      <td>...</td>\n",
       "      <td>...</td>\n",
       "      <td>...</td>\n",
       "      <td>...</td>\n",
       "    </tr>\n",
       "    <tr>\n",
       "      <th>2357</th>\n",
       "      <td>1.0</td>\n",
       "      <td>0.0</td>\n",
       "      <td>0.0</td>\n",
       "      <td>0.0</td>\n",
       "      <td>0.0</td>\n",
       "      <td>-0.373584</td>\n",
       "      <td>-0.906147</td>\n",
       "    </tr>\n",
       "    <tr>\n",
       "      <th>1350</th>\n",
       "      <td>1.0</td>\n",
       "      <td>0.0</td>\n",
       "      <td>0.0</td>\n",
       "      <td>0.0</td>\n",
       "      <td>0.0</td>\n",
       "      <td>-0.419680</td>\n",
       "      <td>-0.273141</td>\n",
       "    </tr>\n",
       "    <tr>\n",
       "      <th>2737</th>\n",
       "      <td>1.0</td>\n",
       "      <td>0.0</td>\n",
       "      <td>0.0</td>\n",
       "      <td>0.0</td>\n",
       "      <td>0.0</td>\n",
       "      <td>4.164941</td>\n",
       "      <td>0.359866</td>\n",
       "    </tr>\n",
       "    <tr>\n",
       "      <th>55</th>\n",
       "      <td>1.0</td>\n",
       "      <td>0.0</td>\n",
       "      <td>0.0</td>\n",
       "      <td>0.0</td>\n",
       "      <td>0.0</td>\n",
       "      <td>0.876767</td>\n",
       "      <td>0.992873</td>\n",
       "    </tr>\n",
       "    <tr>\n",
       "      <th>929</th>\n",
       "      <td>1.0</td>\n",
       "      <td>0.0</td>\n",
       "      <td>0.0</td>\n",
       "      <td>0.0</td>\n",
       "      <td>0.0</td>\n",
       "      <td>0.037438</td>\n",
       "      <td>0.359866</td>\n",
       "    </tr>\n",
       "  </tbody>\n",
       "</table>\n",
       "<p>2197 rows × 7 columns</p>\n",
       "</div>"
      ],
      "text/plain": [
       "      dummify__Bldg Type_1Fam  dummify__Bldg Type_2fmCon  \\\n",
       "1969                      1.0                        0.0   \n",
       "1237                      1.0                        0.0   \n",
       "1948                      1.0                        0.0   \n",
       "2810                      1.0                        0.0   \n",
       "696                       1.0                        0.0   \n",
       "...                       ...                        ...   \n",
       "2357                      1.0                        0.0   \n",
       "1350                      1.0                        0.0   \n",
       "2737                      1.0                        0.0   \n",
       "55                        1.0                        0.0   \n",
       "929                       1.0                        0.0   \n",
       "\n",
       "      dummify__Bldg Type_Duplex  dummify__Bldg Type_Twnhs  \\\n",
       "1969                        0.0                       0.0   \n",
       "1237                        0.0                       0.0   \n",
       "1948                        0.0                       0.0   \n",
       "2810                        0.0                       0.0   \n",
       "696                         0.0                       0.0   \n",
       "...                         ...                       ...   \n",
       "2357                        0.0                       0.0   \n",
       "1350                        0.0                       0.0   \n",
       "2737                        0.0                       0.0   \n",
       "55                          0.0                       0.0   \n",
       "929                         0.0                       0.0   \n",
       "\n",
       "      dummify__Bldg Type_TwnhsE  standardize__Gr Liv Area  \\\n",
       "1969                        0.0                  0.667415   \n",
       "1237                        0.0                 -0.629032   \n",
       "1948                        0.0                 -0.427363   \n",
       "2810                        0.0                  0.093137   \n",
       "696                         0.0                 -0.379346   \n",
       "...                         ...                       ...   \n",
       "2357                        0.0                 -0.373584   \n",
       "1350                        0.0                 -0.419680   \n",
       "2737                        0.0                  4.164941   \n",
       "55                          0.0                  0.876767   \n",
       "929                         0.0                  0.037438   \n",
       "\n",
       "      standardize__TotRms AbvGrd  \n",
       "1969                    0.359866  \n",
       "1237                   -0.273141  \n",
       "1948                   -0.273141  \n",
       "2810                    0.359866  \n",
       "696                    -0.273141  \n",
       "...                          ...  \n",
       "2357                   -0.906147  \n",
       "1350                   -0.273141  \n",
       "2737                    0.359866  \n",
       "55                      0.992873  \n",
       "929                     0.359866  \n",
       "\n",
       "[2197 rows x 7 columns]"
      ]
     },
     "execution_count": 17,
     "metadata": {},
     "output_type": "execute_result"
    }
   ],
   "source": [
    "lr_pipeline = Pipeline(\n",
    "  [(\"preprocessing\", ct),\n",
    "  (\"linear_regression\", LinearRegression())]\n",
    ").set_output(transform=\"pandas\")\n",
    "\n",
    "\n",
    "ct.fit_transform(X_train)"
   ]
  },
  {
   "cell_type": "markdown",
   "metadata": {
    "id": "0-xHKOOJ91cF"
   },
   "source": [
    "#### Notice that our column names got changed. There is a step label attached to each new column name as well.\n",
    "\n",
    "##### Structure for transformed dummy column variables:\n",
    "`[step name]__[variable name]_[category]`\n",
    "\n"
   ]
  },
  {
   "cell_type": "markdown",
   "metadata": {
    "id": "KOTeRXJP-iPy"
   },
   "source": [
    "#### Interaction Terms:"
   ]
  },
  {
   "cell_type": "code",
   "execution_count": 18,
   "metadata": {
    "colab": {
     "base_uri": "https://localhost:8080/",
     "height": 424
    },
    "id": "aL_d2qdP9yzj",
    "outputId": "37f0b28f-be93-4dfe-884c-b2ecac11a43f"
   },
   "outputs": [
    {
     "data": {
      "text/html": [
       "<div>\n",
       "<style scoped>\n",
       "    .dataframe tbody tr th:only-of-type {\n",
       "        vertical-align: middle;\n",
       "    }\n",
       "\n",
       "    .dataframe tbody tr th {\n",
       "        vertical-align: top;\n",
       "    }\n",
       "\n",
       "    .dataframe thead th {\n",
       "        text-align: right;\n",
       "    }\n",
       "</style>\n",
       "<table border=\"1\" class=\"dataframe\">\n",
       "  <thead>\n",
       "    <tr style=\"text-align: right;\">\n",
       "      <th></th>\n",
       "      <th>interaction__1</th>\n",
       "      <th>interaction__Gr Liv Area</th>\n",
       "      <th>interaction__TotRms AbvGrd</th>\n",
       "      <th>interaction__Gr Liv Area TotRms AbvGrd</th>\n",
       "    </tr>\n",
       "  </thead>\n",
       "  <tbody>\n",
       "    <tr>\n",
       "      <th>1969</th>\n",
       "      <td>1.0</td>\n",
       "      <td>1851.0</td>\n",
       "      <td>7.0</td>\n",
       "      <td>12957.0</td>\n",
       "    </tr>\n",
       "    <tr>\n",
       "      <th>1237</th>\n",
       "      <td>1.0</td>\n",
       "      <td>1176.0</td>\n",
       "      <td>6.0</td>\n",
       "      <td>7056.0</td>\n",
       "    </tr>\n",
       "    <tr>\n",
       "      <th>1948</th>\n",
       "      <td>1.0</td>\n",
       "      <td>1281.0</td>\n",
       "      <td>6.0</td>\n",
       "      <td>7686.0</td>\n",
       "    </tr>\n",
       "    <tr>\n",
       "      <th>2810</th>\n",
       "      <td>1.0</td>\n",
       "      <td>1552.0</td>\n",
       "      <td>7.0</td>\n",
       "      <td>10864.0</td>\n",
       "    </tr>\n",
       "    <tr>\n",
       "      <th>696</th>\n",
       "      <td>1.0</td>\n",
       "      <td>1306.0</td>\n",
       "      <td>6.0</td>\n",
       "      <td>7836.0</td>\n",
       "    </tr>\n",
       "    <tr>\n",
       "      <th>...</th>\n",
       "      <td>...</td>\n",
       "      <td>...</td>\n",
       "      <td>...</td>\n",
       "      <td>...</td>\n",
       "    </tr>\n",
       "    <tr>\n",
       "      <th>2357</th>\n",
       "      <td>1.0</td>\n",
       "      <td>1309.0</td>\n",
       "      <td>5.0</td>\n",
       "      <td>6545.0</td>\n",
       "    </tr>\n",
       "    <tr>\n",
       "      <th>1350</th>\n",
       "      <td>1.0</td>\n",
       "      <td>1285.0</td>\n",
       "      <td>6.0</td>\n",
       "      <td>7710.0</td>\n",
       "    </tr>\n",
       "    <tr>\n",
       "      <th>2737</th>\n",
       "      <td>1.0</td>\n",
       "      <td>3672.0</td>\n",
       "      <td>7.0</td>\n",
       "      <td>25704.0</td>\n",
       "    </tr>\n",
       "    <tr>\n",
       "      <th>55</th>\n",
       "      <td>1.0</td>\n",
       "      <td>1960.0</td>\n",
       "      <td>8.0</td>\n",
       "      <td>15680.0</td>\n",
       "    </tr>\n",
       "    <tr>\n",
       "      <th>929</th>\n",
       "      <td>1.0</td>\n",
       "      <td>1523.0</td>\n",
       "      <td>7.0</td>\n",
       "      <td>10661.0</td>\n",
       "    </tr>\n",
       "  </tbody>\n",
       "</table>\n",
       "<p>2197 rows × 4 columns</p>\n",
       "</div>"
      ],
      "text/plain": [
       "      interaction__1  interaction__Gr Liv Area  interaction__TotRms AbvGrd  \\\n",
       "1969             1.0                    1851.0                         7.0   \n",
       "1237             1.0                    1176.0                         6.0   \n",
       "1948             1.0                    1281.0                         6.0   \n",
       "2810             1.0                    1552.0                         7.0   \n",
       "696              1.0                    1306.0                         6.0   \n",
       "...              ...                       ...                         ...   \n",
       "2357             1.0                    1309.0                         5.0   \n",
       "1350             1.0                    1285.0                         6.0   \n",
       "2737             1.0                    3672.0                         7.0   \n",
       "55               1.0                    1960.0                         8.0   \n",
       "929              1.0                    1523.0                         7.0   \n",
       "\n",
       "      interaction__Gr Liv Area TotRms AbvGrd  \n",
       "1969                                 12957.0  \n",
       "1237                                  7056.0  \n",
       "1948                                  7686.0  \n",
       "2810                                 10864.0  \n",
       "696                                   7836.0  \n",
       "...                                      ...  \n",
       "2357                                  6545.0  \n",
       "1350                                  7710.0  \n",
       "2737                                 25704.0  \n",
       "55                                   15680.0  \n",
       "929                                  10661.0  \n",
       "\n",
       "[2197 rows x 4 columns]"
      ]
     },
     "execution_count": 18,
     "metadata": {},
     "output_type": "execute_result"
    }
   ],
   "source": [
    "ct_inter = ColumnTransformer(\n",
    "  [\n",
    "    (\"interaction\", PolynomialFeatures(interaction_only = True), [\"Gr Liv Area\", \"TotRms AbvGrd\"])\n",
    "  ], remainder = \"drop\").set_output(transform = \"pandas\")\n",
    "\n",
    "ct_inter.fit_transform(X_train)"
   ]
  },
  {
   "cell_type": "markdown",
   "metadata": {
    "id": "F1CssdJr_JTP"
   },
   "source": [
    "#### To do an interaction term with a dummy variable, we must do two column transformers, because we need to get the output of the first dummify column transformer before we can feed it to the second interaction term transformer."
   ]
  },
  {
   "cell_type": "code",
   "execution_count": 19,
   "metadata": {
    "colab": {
     "base_uri": "https://localhost:8080/",
     "height": 461
    },
    "id": "LYM3kj5L-htb",
    "outputId": "3751e596-cf59-4ce2-bfac-728c189b1e23"
   },
   "outputs": [
    {
     "data": {
      "text/html": [
       "<div>\n",
       "<style scoped>\n",
       "    .dataframe tbody tr th:only-of-type {\n",
       "        vertical-align: middle;\n",
       "    }\n",
       "\n",
       "    .dataframe tbody tr th {\n",
       "        vertical-align: top;\n",
       "    }\n",
       "\n",
       "    .dataframe thead th {\n",
       "        text-align: right;\n",
       "    }\n",
       "</style>\n",
       "<table border=\"1\" class=\"dataframe\">\n",
       "  <thead>\n",
       "    <tr style=\"text-align: right;\">\n",
       "      <th></th>\n",
       "      <th>dummify__Bldg Type_1Fam</th>\n",
       "      <th>dummify__Bldg Type_2fmCon</th>\n",
       "      <th>dummify__Bldg Type_Duplex</th>\n",
       "      <th>dummify__Bldg Type_Twnhs</th>\n",
       "      <th>dummify__Bldg Type_TwnhsE</th>\n",
       "      <th>remainder__Order</th>\n",
       "      <th>remainder__PID</th>\n",
       "      <th>remainder__MS SubClass</th>\n",
       "      <th>remainder__MS Zoning</th>\n",
       "      <th>remainder__Lot Frontage</th>\n",
       "      <th>...</th>\n",
       "      <th>remainder__Screen Porch</th>\n",
       "      <th>remainder__Pool Area</th>\n",
       "      <th>remainder__Pool QC</th>\n",
       "      <th>remainder__Fence</th>\n",
       "      <th>remainder__Misc Feature</th>\n",
       "      <th>remainder__Misc Val</th>\n",
       "      <th>remainder__Mo Sold</th>\n",
       "      <th>remainder__Yr Sold</th>\n",
       "      <th>remainder__Sale Type</th>\n",
       "      <th>remainder__Sale Condition</th>\n",
       "    </tr>\n",
       "  </thead>\n",
       "  <tbody>\n",
       "    <tr>\n",
       "      <th>1969</th>\n",
       "      <td>1.0</td>\n",
       "      <td>0.0</td>\n",
       "      <td>0.0</td>\n",
       "      <td>0.0</td>\n",
       "      <td>0.0</td>\n",
       "      <td>1970</td>\n",
       "      <td>535476360</td>\n",
       "      <td>60</td>\n",
       "      <td>RL</td>\n",
       "      <td>80.0</td>\n",
       "      <td>...</td>\n",
       "      <td>0</td>\n",
       "      <td>0</td>\n",
       "      <td>NaN</td>\n",
       "      <td>MnWw</td>\n",
       "      <td>NaN</td>\n",
       "      <td>0</td>\n",
       "      <td>7</td>\n",
       "      <td>2007</td>\n",
       "      <td>WD</td>\n",
       "      <td>Normal</td>\n",
       "    </tr>\n",
       "    <tr>\n",
       "      <th>1237</th>\n",
       "      <td>1.0</td>\n",
       "      <td>0.0</td>\n",
       "      <td>0.0</td>\n",
       "      <td>0.0</td>\n",
       "      <td>0.0</td>\n",
       "      <td>1238</td>\n",
       "      <td>535152200</td>\n",
       "      <td>20</td>\n",
       "      <td>RL</td>\n",
       "      <td>74.0</td>\n",
       "      <td>...</td>\n",
       "      <td>95</td>\n",
       "      <td>0</td>\n",
       "      <td>NaN</td>\n",
       "      <td>NaN</td>\n",
       "      <td>NaN</td>\n",
       "      <td>0</td>\n",
       "      <td>5</td>\n",
       "      <td>2008</td>\n",
       "      <td>WD</td>\n",
       "      <td>Normal</td>\n",
       "    </tr>\n",
       "    <tr>\n",
       "      <th>1948</th>\n",
       "      <td>1.0</td>\n",
       "      <td>0.0</td>\n",
       "      <td>0.0</td>\n",
       "      <td>0.0</td>\n",
       "      <td>0.0</td>\n",
       "      <td>1949</td>\n",
       "      <td>535378080</td>\n",
       "      <td>50</td>\n",
       "      <td>RL</td>\n",
       "      <td>60.0</td>\n",
       "      <td>...</td>\n",
       "      <td>0</td>\n",
       "      <td>0</td>\n",
       "      <td>NaN</td>\n",
       "      <td>NaN</td>\n",
       "      <td>NaN</td>\n",
       "      <td>0</td>\n",
       "      <td>8</td>\n",
       "      <td>2007</td>\n",
       "      <td>WD</td>\n",
       "      <td>Abnorml</td>\n",
       "    </tr>\n",
       "    <tr>\n",
       "      <th>2810</th>\n",
       "      <td>1.0</td>\n",
       "      <td>0.0</td>\n",
       "      <td>0.0</td>\n",
       "      <td>0.0</td>\n",
       "      <td>0.0</td>\n",
       "      <td>2811</td>\n",
       "      <td>907410110</td>\n",
       "      <td>20</td>\n",
       "      <td>RL</td>\n",
       "      <td>84.0</td>\n",
       "      <td>...</td>\n",
       "      <td>0</td>\n",
       "      <td>0</td>\n",
       "      <td>NaN</td>\n",
       "      <td>NaN</td>\n",
       "      <td>NaN</td>\n",
       "      <td>0</td>\n",
       "      <td>7</td>\n",
       "      <td>2006</td>\n",
       "      <td>New</td>\n",
       "      <td>Partial</td>\n",
       "    </tr>\n",
       "    <tr>\n",
       "      <th>696</th>\n",
       "      <td>1.0</td>\n",
       "      <td>0.0</td>\n",
       "      <td>0.0</td>\n",
       "      <td>0.0</td>\n",
       "      <td>0.0</td>\n",
       "      <td>697</td>\n",
       "      <td>902105050</td>\n",
       "      <td>50</td>\n",
       "      <td>RM</td>\n",
       "      <td>90.0</td>\n",
       "      <td>...</td>\n",
       "      <td>0</td>\n",
       "      <td>0</td>\n",
       "      <td>NaN</td>\n",
       "      <td>MnPrv</td>\n",
       "      <td>NaN</td>\n",
       "      <td>0</td>\n",
       "      <td>7</td>\n",
       "      <td>2009</td>\n",
       "      <td>WD</td>\n",
       "      <td>Normal</td>\n",
       "    </tr>\n",
       "    <tr>\n",
       "      <th>...</th>\n",
       "      <td>...</td>\n",
       "      <td>...</td>\n",
       "      <td>...</td>\n",
       "      <td>...</td>\n",
       "      <td>...</td>\n",
       "      <td>...</td>\n",
       "      <td>...</td>\n",
       "      <td>...</td>\n",
       "      <td>...</td>\n",
       "      <td>...</td>\n",
       "      <td>...</td>\n",
       "      <td>...</td>\n",
       "      <td>...</td>\n",
       "      <td>...</td>\n",
       "      <td>...</td>\n",
       "      <td>...</td>\n",
       "      <td>...</td>\n",
       "      <td>...</td>\n",
       "      <td>...</td>\n",
       "      <td>...</td>\n",
       "      <td>...</td>\n",
       "    </tr>\n",
       "    <tr>\n",
       "      <th>2357</th>\n",
       "      <td>1.0</td>\n",
       "      <td>0.0</td>\n",
       "      <td>0.0</td>\n",
       "      <td>0.0</td>\n",
       "      <td>0.0</td>\n",
       "      <td>2358</td>\n",
       "      <td>527377030</td>\n",
       "      <td>20</td>\n",
       "      <td>RL</td>\n",
       "      <td>78.0</td>\n",
       "      <td>...</td>\n",
       "      <td>0</td>\n",
       "      <td>648</td>\n",
       "      <td>Fa</td>\n",
       "      <td>GdPrv</td>\n",
       "      <td>NaN</td>\n",
       "      <td>0</td>\n",
       "      <td>1</td>\n",
       "      <td>2006</td>\n",
       "      <td>WD</td>\n",
       "      <td>Normal</td>\n",
       "    </tr>\n",
       "    <tr>\n",
       "      <th>1350</th>\n",
       "      <td>1.0</td>\n",
       "      <td>0.0</td>\n",
       "      <td>0.0</td>\n",
       "      <td>0.0</td>\n",
       "      <td>0.0</td>\n",
       "      <td>1351</td>\n",
       "      <td>903236010</td>\n",
       "      <td>50</td>\n",
       "      <td>RM</td>\n",
       "      <td>50.0</td>\n",
       "      <td>...</td>\n",
       "      <td>0</td>\n",
       "      <td>0</td>\n",
       "      <td>NaN</td>\n",
       "      <td>MnPrv</td>\n",
       "      <td>NaN</td>\n",
       "      <td>0</td>\n",
       "      <td>1</td>\n",
       "      <td>2008</td>\n",
       "      <td>WD</td>\n",
       "      <td>Normal</td>\n",
       "    </tr>\n",
       "    <tr>\n",
       "      <th>2737</th>\n",
       "      <td>1.0</td>\n",
       "      <td>0.0</td>\n",
       "      <td>0.0</td>\n",
       "      <td>0.0</td>\n",
       "      <td>0.0</td>\n",
       "      <td>2738</td>\n",
       "      <td>905427030</td>\n",
       "      <td>75</td>\n",
       "      <td>RL</td>\n",
       "      <td>60.0</td>\n",
       "      <td>...</td>\n",
       "      <td>0</td>\n",
       "      <td>0</td>\n",
       "      <td>NaN</td>\n",
       "      <td>NaN</td>\n",
       "      <td>NaN</td>\n",
       "      <td>0</td>\n",
       "      <td>12</td>\n",
       "      <td>2006</td>\n",
       "      <td>WD</td>\n",
       "      <td>Normal</td>\n",
       "    </tr>\n",
       "    <tr>\n",
       "      <th>55</th>\n",
       "      <td>1.0</td>\n",
       "      <td>0.0</td>\n",
       "      <td>0.0</td>\n",
       "      <td>0.0</td>\n",
       "      <td>0.0</td>\n",
       "      <td>56</td>\n",
       "      <td>528240070</td>\n",
       "      <td>60</td>\n",
       "      <td>RL</td>\n",
       "      <td>NaN</td>\n",
       "      <td>...</td>\n",
       "      <td>0</td>\n",
       "      <td>0</td>\n",
       "      <td>NaN</td>\n",
       "      <td>NaN</td>\n",
       "      <td>NaN</td>\n",
       "      <td>0</td>\n",
       "      <td>5</td>\n",
       "      <td>2010</td>\n",
       "      <td>WD</td>\n",
       "      <td>Normal</td>\n",
       "    </tr>\n",
       "    <tr>\n",
       "      <th>929</th>\n",
       "      <td>1.0</td>\n",
       "      <td>0.0</td>\n",
       "      <td>0.0</td>\n",
       "      <td>0.0</td>\n",
       "      <td>0.0</td>\n",
       "      <td>930</td>\n",
       "      <td>909426090</td>\n",
       "      <td>50</td>\n",
       "      <td>RL</td>\n",
       "      <td>78.0</td>\n",
       "      <td>...</td>\n",
       "      <td>0</td>\n",
       "      <td>0</td>\n",
       "      <td>NaN</td>\n",
       "      <td>NaN</td>\n",
       "      <td>NaN</td>\n",
       "      <td>0</td>\n",
       "      <td>10</td>\n",
       "      <td>2009</td>\n",
       "      <td>WD</td>\n",
       "      <td>Normal</td>\n",
       "    </tr>\n",
       "  </tbody>\n",
       "</table>\n",
       "<p>2197 rows × 85 columns</p>\n",
       "</div>"
      ],
      "text/plain": [
       "      dummify__Bldg Type_1Fam  dummify__Bldg Type_2fmCon  \\\n",
       "1969                      1.0                        0.0   \n",
       "1237                      1.0                        0.0   \n",
       "1948                      1.0                        0.0   \n",
       "2810                      1.0                        0.0   \n",
       "696                       1.0                        0.0   \n",
       "...                       ...                        ...   \n",
       "2357                      1.0                        0.0   \n",
       "1350                      1.0                        0.0   \n",
       "2737                      1.0                        0.0   \n",
       "55                        1.0                        0.0   \n",
       "929                       1.0                        0.0   \n",
       "\n",
       "      dummify__Bldg Type_Duplex  dummify__Bldg Type_Twnhs  \\\n",
       "1969                        0.0                       0.0   \n",
       "1237                        0.0                       0.0   \n",
       "1948                        0.0                       0.0   \n",
       "2810                        0.0                       0.0   \n",
       "696                         0.0                       0.0   \n",
       "...                         ...                       ...   \n",
       "2357                        0.0                       0.0   \n",
       "1350                        0.0                       0.0   \n",
       "2737                        0.0                       0.0   \n",
       "55                          0.0                       0.0   \n",
       "929                         0.0                       0.0   \n",
       "\n",
       "      dummify__Bldg Type_TwnhsE  remainder__Order  remainder__PID  \\\n",
       "1969                        0.0              1970       535476360   \n",
       "1237                        0.0              1238       535152200   \n",
       "1948                        0.0              1949       535378080   \n",
       "2810                        0.0              2811       907410110   \n",
       "696                         0.0               697       902105050   \n",
       "...                         ...               ...             ...   \n",
       "2357                        0.0              2358       527377030   \n",
       "1350                        0.0              1351       903236010   \n",
       "2737                        0.0              2738       905427030   \n",
       "55                          0.0                56       528240070   \n",
       "929                         0.0               930       909426090   \n",
       "\n",
       "      remainder__MS SubClass remainder__MS Zoning  remainder__Lot Frontage  \\\n",
       "1969                      60                   RL                     80.0   \n",
       "1237                      20                   RL                     74.0   \n",
       "1948                      50                   RL                     60.0   \n",
       "2810                      20                   RL                     84.0   \n",
       "696                       50                   RM                     90.0   \n",
       "...                      ...                  ...                      ...   \n",
       "2357                      20                   RL                     78.0   \n",
       "1350                      50                   RM                     50.0   \n",
       "2737                      75                   RL                     60.0   \n",
       "55                        60                   RL                      NaN   \n",
       "929                       50                   RL                     78.0   \n",
       "\n",
       "      ...  remainder__Screen Porch remainder__Pool Area remainder__Pool QC  \\\n",
       "1969  ...                        0                    0                NaN   \n",
       "1237  ...                       95                    0                NaN   \n",
       "1948  ...                        0                    0                NaN   \n",
       "2810  ...                        0                    0                NaN   \n",
       "696   ...                        0                    0                NaN   \n",
       "...   ...                      ...                  ...                ...   \n",
       "2357  ...                        0                  648                 Fa   \n",
       "1350  ...                        0                    0                NaN   \n",
       "2737  ...                        0                    0                NaN   \n",
       "55    ...                        0                    0                NaN   \n",
       "929   ...                        0                    0                NaN   \n",
       "\n",
       "     remainder__Fence remainder__Misc Feature remainder__Misc Val  \\\n",
       "1969             MnWw                     NaN                   0   \n",
       "1237              NaN                     NaN                   0   \n",
       "1948              NaN                     NaN                   0   \n",
       "2810              NaN                     NaN                   0   \n",
       "696             MnPrv                     NaN                   0   \n",
       "...               ...                     ...                 ...   \n",
       "2357            GdPrv                     NaN                   0   \n",
       "1350            MnPrv                     NaN                   0   \n",
       "2737              NaN                     NaN                   0   \n",
       "55                NaN                     NaN                   0   \n",
       "929               NaN                     NaN                   0   \n",
       "\n",
       "     remainder__Mo Sold remainder__Yr Sold remainder__Sale Type  \\\n",
       "1969                  7               2007                  WD    \n",
       "1237                  5               2008                  WD    \n",
       "1948                  8               2007                  WD    \n",
       "2810                  7               2006                  New   \n",
       "696                   7               2009                  WD    \n",
       "...                 ...                ...                  ...   \n",
       "2357                  1               2006                  WD    \n",
       "1350                  1               2008                  WD    \n",
       "2737                 12               2006                  WD    \n",
       "55                    5               2010                  WD    \n",
       "929                  10               2009                  WD    \n",
       "\n",
       "     remainder__Sale Condition  \n",
       "1969                    Normal  \n",
       "1237                    Normal  \n",
       "1948                   Abnorml  \n",
       "2810                   Partial  \n",
       "696                     Normal  \n",
       "...                        ...  \n",
       "2357                    Normal  \n",
       "1350                    Normal  \n",
       "2737                    Normal  \n",
       "55                      Normal  \n",
       "929                     Normal  \n",
       "\n",
       "[2197 rows x 85 columns]"
      ]
     },
     "execution_count": 19,
     "metadata": {},
     "output_type": "execute_result"
    }
   ],
   "source": [
    "ct_dummies = ColumnTransformer(\n",
    "  [(\"dummify\", OneHotEncoder(sparse_output = False), [\"Bldg Type\"])],\n",
    "  remainder = \"passthrough\"\n",
    ").set_output(transform = \"pandas\")\n",
    "\n",
    "ct_inter = ColumnTransformer(\n",
    "  [\n",
    "    (\"interaction\", PolynomialFeatures(interaction_only = True), [\"remainder__TotRms AbvGrd\", \"dummify__Bldg Type_1Fam\"]),\n",
    "  ],\n",
    "  remainder = \"drop\"\n",
    ").set_output(transform = \"pandas\")\n",
    "\n",
    "X_train_dummified = ct_dummies.fit_transform(X_train)\n",
    "X_train_dummified"
   ]
  },
  {
   "cell_type": "code",
   "execution_count": 20,
   "metadata": {
    "colab": {
     "base_uri": "https://localhost:8080/",
     "height": 441
    },
    "id": "xaxDwxTl_HTq",
    "outputId": "04628bf0-b0db-4b92-c90c-c8f1c4ee61ad"
   },
   "outputs": [
    {
     "data": {
      "text/html": [
       "<div>\n",
       "<style scoped>\n",
       "    .dataframe tbody tr th:only-of-type {\n",
       "        vertical-align: middle;\n",
       "    }\n",
       "\n",
       "    .dataframe tbody tr th {\n",
       "        vertical-align: top;\n",
       "    }\n",
       "\n",
       "    .dataframe thead th {\n",
       "        text-align: right;\n",
       "    }\n",
       "</style>\n",
       "<table border=\"1\" class=\"dataframe\">\n",
       "  <thead>\n",
       "    <tr style=\"text-align: right;\">\n",
       "      <th></th>\n",
       "      <th>interaction__1</th>\n",
       "      <th>interaction__remainder__TotRms AbvGrd</th>\n",
       "      <th>interaction__dummify__Bldg Type_1Fam</th>\n",
       "      <th>interaction__remainder__TotRms AbvGrd dummify__Bldg Type_1Fam</th>\n",
       "    </tr>\n",
       "  </thead>\n",
       "  <tbody>\n",
       "    <tr>\n",
       "      <th>1969</th>\n",
       "      <td>1.0</td>\n",
       "      <td>7.0</td>\n",
       "      <td>1.0</td>\n",
       "      <td>7.0</td>\n",
       "    </tr>\n",
       "    <tr>\n",
       "      <th>1237</th>\n",
       "      <td>1.0</td>\n",
       "      <td>6.0</td>\n",
       "      <td>1.0</td>\n",
       "      <td>6.0</td>\n",
       "    </tr>\n",
       "    <tr>\n",
       "      <th>1948</th>\n",
       "      <td>1.0</td>\n",
       "      <td>6.0</td>\n",
       "      <td>1.0</td>\n",
       "      <td>6.0</td>\n",
       "    </tr>\n",
       "    <tr>\n",
       "      <th>2810</th>\n",
       "      <td>1.0</td>\n",
       "      <td>7.0</td>\n",
       "      <td>1.0</td>\n",
       "      <td>7.0</td>\n",
       "    </tr>\n",
       "    <tr>\n",
       "      <th>696</th>\n",
       "      <td>1.0</td>\n",
       "      <td>6.0</td>\n",
       "      <td>1.0</td>\n",
       "      <td>6.0</td>\n",
       "    </tr>\n",
       "    <tr>\n",
       "      <th>...</th>\n",
       "      <td>...</td>\n",
       "      <td>...</td>\n",
       "      <td>...</td>\n",
       "      <td>...</td>\n",
       "    </tr>\n",
       "    <tr>\n",
       "      <th>2357</th>\n",
       "      <td>1.0</td>\n",
       "      <td>5.0</td>\n",
       "      <td>1.0</td>\n",
       "      <td>5.0</td>\n",
       "    </tr>\n",
       "    <tr>\n",
       "      <th>1350</th>\n",
       "      <td>1.0</td>\n",
       "      <td>6.0</td>\n",
       "      <td>1.0</td>\n",
       "      <td>6.0</td>\n",
       "    </tr>\n",
       "    <tr>\n",
       "      <th>2737</th>\n",
       "      <td>1.0</td>\n",
       "      <td>7.0</td>\n",
       "      <td>1.0</td>\n",
       "      <td>7.0</td>\n",
       "    </tr>\n",
       "    <tr>\n",
       "      <th>55</th>\n",
       "      <td>1.0</td>\n",
       "      <td>8.0</td>\n",
       "      <td>1.0</td>\n",
       "      <td>8.0</td>\n",
       "    </tr>\n",
       "    <tr>\n",
       "      <th>929</th>\n",
       "      <td>1.0</td>\n",
       "      <td>7.0</td>\n",
       "      <td>1.0</td>\n",
       "      <td>7.0</td>\n",
       "    </tr>\n",
       "  </tbody>\n",
       "</table>\n",
       "<p>2197 rows × 4 columns</p>\n",
       "</div>"
      ],
      "text/plain": [
       "      interaction__1  interaction__remainder__TotRms AbvGrd  \\\n",
       "1969             1.0                                    7.0   \n",
       "1237             1.0                                    6.0   \n",
       "1948             1.0                                    6.0   \n",
       "2810             1.0                                    7.0   \n",
       "696              1.0                                    6.0   \n",
       "...              ...                                    ...   \n",
       "2357             1.0                                    5.0   \n",
       "1350             1.0                                    6.0   \n",
       "2737             1.0                                    7.0   \n",
       "55               1.0                                    8.0   \n",
       "929              1.0                                    7.0   \n",
       "\n",
       "      interaction__dummify__Bldg Type_1Fam  \\\n",
       "1969                                   1.0   \n",
       "1237                                   1.0   \n",
       "1948                                   1.0   \n",
       "2810                                   1.0   \n",
       "696                                    1.0   \n",
       "...                                    ...   \n",
       "2357                                   1.0   \n",
       "1350                                   1.0   \n",
       "2737                                   1.0   \n",
       "55                                     1.0   \n",
       "929                                    1.0   \n",
       "\n",
       "      interaction__remainder__TotRms AbvGrd dummify__Bldg Type_1Fam  \n",
       "1969                                                7.0              \n",
       "1237                                                6.0              \n",
       "1948                                                6.0              \n",
       "2810                                                7.0              \n",
       "696                                                 6.0              \n",
       "...                                                 ...              \n",
       "2357                                                5.0              \n",
       "1350                                                6.0              \n",
       "2737                                                7.0              \n",
       "55                                                  8.0              \n",
       "929                                                 7.0              \n",
       "\n",
       "[2197 rows x 4 columns]"
      ]
     },
     "execution_count": 20,
     "metadata": {},
     "output_type": "execute_result"
    }
   ],
   "source": [
    "ct_inter.fit_transform(X_train_dummified)"
   ]
  },
  {
   "cell_type": "markdown",
   "metadata": {
    "id": "C5cT4EeQA3Wl"
   },
   "source": [
    "## Practice Activity: Pipelines\n",
    "Consider four possible models for predicting house prices:\n",
    "\n",
    "- Using only the size and number of rooms.\n",
    "- Using size, number of rooms, and building type.\n",
    "- Using size and building type, and their interaction.\n",
    "- Using a 5-degree polynomial on size, a 5-degree polynomial on number of rooms, and also building type.\n",
    "Set up a pipeline for each of these four models.\n",
    "\n",
    "Then, get predictions on the test set for each of your pipelines, and compute the root mean squared error. Which model performed best?\n",
    "\n",
    "Note: You should only use the function train_test_split() one time in your code; that is, we should be predicting on the same test set for all three models.\n",
    "\n"
   ]
  },
  {
   "cell_type": "code",
   "execution_count": 21,
   "metadata": {
    "id": "Xo7m8jAOA27i"
   },
   "outputs": [],
   "source": [
    "X_train, X_test, y_train, y_test = train_test_split(X, y, random_state=4)"
   ]
  },
  {
   "cell_type": "code",
   "execution_count": 22,
   "metadata": {
    "id": "51iun0drfUSR"
   },
   "outputs": [],
   "source": [
    "rmse_df = pd.DataFrame({\"RMSE\" : [], \"Predictor Vars\" : []})"
   ]
  },
  {
   "cell_type": "code",
   "execution_count": 23,
   "metadata": {
    "colab": {
     "base_uri": "https://localhost:8080/",
     "height": 81
    },
    "id": "QkI9Z2sQPDl-",
    "outputId": "b787fde7-655c-43a0-f291-83fcc9689a8e"
   },
   "outputs": [
    {
     "data": {
      "text/html": [
       "<div>\n",
       "<style scoped>\n",
       "    .dataframe tbody tr th:only-of-type {\n",
       "        vertical-align: middle;\n",
       "    }\n",
       "\n",
       "    .dataframe tbody tr th {\n",
       "        vertical-align: top;\n",
       "    }\n",
       "\n",
       "    .dataframe thead th {\n",
       "        text-align: right;\n",
       "    }\n",
       "</style>\n",
       "<table border=\"1\" class=\"dataframe\">\n",
       "  <thead>\n",
       "    <tr style=\"text-align: right;\">\n",
       "      <th></th>\n",
       "      <th>RMSE</th>\n",
       "      <th>Predictor Vars</th>\n",
       "    </tr>\n",
       "  </thead>\n",
       "  <tbody>\n",
       "    <tr>\n",
       "      <th>0</th>\n",
       "      <td>53916.474342</td>\n",
       "      <td>Gr Liv Area, TotRms AbvGrd</td>\n",
       "    </tr>\n",
       "  </tbody>\n",
       "</table>\n",
       "</div>"
      ],
      "text/plain": [
       "           RMSE              Predictor Vars\n",
       "0  53916.474342  Gr Liv Area, TotRms AbvGrd"
      ]
     },
     "execution_count": 23,
     "metadata": {},
     "output_type": "execute_result"
    }
   ],
   "source": [
    "# Using only size and number of rooms:\n",
    "\n",
    "lr = LinearRegression()\n",
    "\n",
    "ct = ColumnTransformer([\n",
    "    (\"keep\", FunctionTransformer(lambda x: x), [\"Gr Liv Area\", \"TotRms AbvGrd\"])\n",
    "])\n",
    "\n",
    "pipeline_1 = Pipeline(\n",
    "  [(\"preprocessing\", ct),\n",
    "  (\"linear_regression\", lr)]\n",
    ")\n",
    "\n",
    "pipeline_1_fitted = pipeline_1.fit(X_train, y_train)\n",
    "preds_1 = pipeline_1_fitted.predict(X_test)\n",
    "rmse_1 = mean_squared_error(y_test, preds_1, squared=False)\n",
    "\n",
    "new_row = [rmse_1, \"Gr Liv Area, TotRms AbvGrd\"]\n",
    "rmse_df.loc[len(rmse_df.index)] = new_row\n",
    "rmse_df"
   ]
  },
  {
   "cell_type": "code",
   "execution_count": 24,
   "metadata": {
    "colab": {
     "base_uri": "https://localhost:8080/",
     "height": 112
    },
    "id": "FfQFoVwRbE9l",
    "outputId": "f3880867-dbb9-4406-9cc9-c63a1d49e0ca"
   },
   "outputs": [
    {
     "data": {
      "text/html": [
       "<div>\n",
       "<style scoped>\n",
       "    .dataframe tbody tr th:only-of-type {\n",
       "        vertical-align: middle;\n",
       "    }\n",
       "\n",
       "    .dataframe tbody tr th {\n",
       "        vertical-align: top;\n",
       "    }\n",
       "\n",
       "    .dataframe thead th {\n",
       "        text-align: right;\n",
       "    }\n",
       "</style>\n",
       "<table border=\"1\" class=\"dataframe\">\n",
       "  <thead>\n",
       "    <tr style=\"text-align: right;\">\n",
       "      <th></th>\n",
       "      <th>RMSE</th>\n",
       "      <th>Predictor Vars</th>\n",
       "    </tr>\n",
       "  </thead>\n",
       "  <tbody>\n",
       "    <tr>\n",
       "      <th>0</th>\n",
       "      <td>53916.474342</td>\n",
       "      <td>Gr Liv Area, TotRms AbvGrd</td>\n",
       "    </tr>\n",
       "    <tr>\n",
       "      <th>1</th>\n",
       "      <td>51902.382754</td>\n",
       "      <td>Gr Liv Area, TotRms AbvGrd, Bldg Type</td>\n",
       "    </tr>\n",
       "  </tbody>\n",
       "</table>\n",
       "</div>"
      ],
      "text/plain": [
       "           RMSE                         Predictor Vars\n",
       "0  53916.474342             Gr Liv Area, TotRms AbvGrd\n",
       "1  51902.382754  Gr Liv Area, TotRms AbvGrd, Bldg Type"
      ]
     },
     "execution_count": 24,
     "metadata": {},
     "output_type": "execute_result"
    }
   ],
   "source": [
    "# Using size, number of rooms, and building type:\n",
    "\n",
    "lr = LinearRegression()\n",
    "enc = OneHotEncoder()\n",
    "\n",
    "ct = ColumnTransformer([\n",
    "    (\"one_hot\", enc, [\"Bldg Type\"]),\n",
    "    (\"keep\", FunctionTransformer(lambda x: x), [\"Gr Liv Area\", \"TotRms AbvGrd\"])\n",
    "])\n",
    "\n",
    "pipeline_2 = Pipeline(\n",
    "  [(\"preprocessing\", ct),\n",
    "  (\"linear_regression\", lr)]\n",
    ")\n",
    "\n",
    "pipeline_2_fitted = pipeline_2.fit(X_train, y_train)\n",
    "preds_2 = pipeline_2_fitted.predict(X_test)\n",
    "rmse_2 = mean_squared_error(y_test, preds_2, squared=False)\n",
    "\n",
    "new_row = [rmse_2, \"Gr Liv Area, TotRms AbvGrd, Bldg Type\"]\n",
    "rmse_df.loc[len(rmse_df.index)] = new_row\n",
    "rmse_df"
   ]
  },
  {
   "cell_type": "code",
   "execution_count": 25,
   "metadata": {
    "colab": {
     "base_uri": "https://localhost:8080/",
     "height": 199
    },
    "id": "ahXX9WUbbmTo",
    "outputId": "917e505e-b6a4-43e4-b339-1bbf2638bd76"
   },
   "outputs": [
    {
     "name": "stderr",
     "output_type": "stream",
     "text": [
      "/Library/Frameworks/Python.framework/Versions/3.10/lib/python3.10/site-packages/sklearn/preprocessing/_function_transformer.py:345: UserWarning: With transform=\"pandas\", `func` should return a DataFrame to follow the set_output API.\n",
      "  warnings.warn(\n"
     ]
    },
    {
     "data": {
      "text/html": [
       "<div>\n",
       "<style scoped>\n",
       "    .dataframe tbody tr th:only-of-type {\n",
       "        vertical-align: middle;\n",
       "    }\n",
       "\n",
       "    .dataframe tbody tr th {\n",
       "        vertical-align: top;\n",
       "    }\n",
       "\n",
       "    .dataframe thead th {\n",
       "        text-align: right;\n",
       "    }\n",
       "</style>\n",
       "<table border=\"1\" class=\"dataframe\">\n",
       "  <thead>\n",
       "    <tr style=\"text-align: right;\">\n",
       "      <th></th>\n",
       "      <th>RMSE</th>\n",
       "      <th>Predictor Vars</th>\n",
       "    </tr>\n",
       "  </thead>\n",
       "  <tbody>\n",
       "    <tr>\n",
       "      <th>0</th>\n",
       "      <td>53916.474342</td>\n",
       "      <td>Gr Liv Area, TotRms AbvGrd</td>\n",
       "    </tr>\n",
       "    <tr>\n",
       "      <th>1</th>\n",
       "      <td>51902.382754</td>\n",
       "      <td>Gr Liv Area, TotRms AbvGrd, Bldg Type</td>\n",
       "    </tr>\n",
       "    <tr>\n",
       "      <th>2</th>\n",
       "      <td>51468.847174</td>\n",
       "      <td>Gr Liv Area, Bldg Type, and Interactions</td>\n",
       "    </tr>\n",
       "  </tbody>\n",
       "</table>\n",
       "</div>"
      ],
      "text/plain": [
       "           RMSE                            Predictor Vars\n",
       "0  53916.474342                Gr Liv Area, TotRms AbvGrd\n",
       "1  51902.382754     Gr Liv Area, TotRms AbvGrd, Bldg Type\n",
       "2  51468.847174  Gr Liv Area, Bldg Type, and Interactions"
      ]
     },
     "execution_count": 25,
     "metadata": {},
     "output_type": "execute_result"
    }
   ],
   "source": [
    "# Using size and building type, and their interaction.\n",
    "\n",
    "lr = LinearRegression()\n",
    "poly = PolynomialFeatures(interaction_only=True)\n",
    "enc = OneHotEncoder(sparse_output=False)\n",
    "\n",
    "ct_1 = ColumnTransformer([\n",
    "    (\"one_hot\", enc, [\"Bldg Type\"]),\n",
    "    (\"keep\", FunctionTransformer(lambda x: x), [\"Gr Liv Area\"])\n",
    "])\n",
    "\n",
    "ct_2 = ColumnTransformer([\n",
    "    (\"inter_term_1\", poly, [\"one_hot__Bldg Type_1Fam\", \"keep__Gr Liv Area\"]),\n",
    "    (\"inter_term_2\", poly, [\"one_hot__Bldg Type_2fmCon\", \"keep__Gr Liv Area\"]),\n",
    "    (\"inter_term_3\", poly, [\"one_hot__Bldg Type_Duplex\", \"keep__Gr Liv Area\"]),\n",
    "    (\"inter_term_4\", poly, [\"one_hot__Bldg Type_Twnhs\", \"keep__Gr Liv Area\"]),\n",
    "    (\"inter_term_5\", poly, [\"one_hot__Bldg Type_TwnhsE\", \"keep__Gr Liv Area\"])\n",
    "])\n",
    "\n",
    "pipeline_3 = Pipeline(\n",
    "  [(\"one_hot_enc\", ct_1),\n",
    "   (\"inter_term\", ct_2),\n",
    "  (\"linear_regression\", lr)]\n",
    ").set_output(transform = \"pandas\")\n",
    "\n",
    "pipeline_3_fitted = pipeline_3.fit(X_train, y_train)\n",
    "preds_3 = pipeline_3_fitted.predict(X_test)\n",
    "rmse_3 = mean_squared_error(y_test, preds_3, squared=False)\n",
    "\n",
    "new_row = [rmse_3, \"Gr Liv Area, Bldg Type, and Interactions\"]\n",
    "rmse_df.loc[len(rmse_df.index)] = new_row\n",
    "rmse_df"
   ]
  },
  {
   "cell_type": "code",
   "execution_count": 26,
   "metadata": {
    "colab": {
     "base_uri": "https://localhost:8080/",
     "height": 175
    },
    "id": "wLbkNsfpda6d",
    "outputId": "d4bcad6a-506f-42df-9f8a-549729caf3a4"
   },
   "outputs": [
    {
     "data": {
      "text/html": [
       "<div>\n",
       "<style scoped>\n",
       "    .dataframe tbody tr th:only-of-type {\n",
       "        vertical-align: middle;\n",
       "    }\n",
       "\n",
       "    .dataframe tbody tr th {\n",
       "        vertical-align: top;\n",
       "    }\n",
       "\n",
       "    .dataframe thead th {\n",
       "        text-align: right;\n",
       "    }\n",
       "</style>\n",
       "<table border=\"1\" class=\"dataframe\">\n",
       "  <thead>\n",
       "    <tr style=\"text-align: right;\">\n",
       "      <th></th>\n",
       "      <th>RMSE</th>\n",
       "      <th>Predictor Vars</th>\n",
       "    </tr>\n",
       "  </thead>\n",
       "  <tbody>\n",
       "    <tr>\n",
       "      <th>0</th>\n",
       "      <td>53916.474342</td>\n",
       "      <td>Gr Liv Area, TotRms AbvGrd</td>\n",
       "    </tr>\n",
       "    <tr>\n",
       "      <th>1</th>\n",
       "      <td>51902.382754</td>\n",
       "      <td>Gr Liv Area, TotRms AbvGrd, Bldg Type</td>\n",
       "    </tr>\n",
       "    <tr>\n",
       "      <th>2</th>\n",
       "      <td>51468.847174</td>\n",
       "      <td>Gr Liv Area, Bldg Type, and Interactions</td>\n",
       "    </tr>\n",
       "    <tr>\n",
       "      <th>3</th>\n",
       "      <td>54087.215042</td>\n",
       "      <td>Gr Liv Area Degree 5, TotRms AbvGrd Degree 5, ...</td>\n",
       "    </tr>\n",
       "  </tbody>\n",
       "</table>\n",
       "</div>"
      ],
      "text/plain": [
       "           RMSE                                     Predictor Vars\n",
       "0  53916.474342                         Gr Liv Area, TotRms AbvGrd\n",
       "1  51902.382754              Gr Liv Area, TotRms AbvGrd, Bldg Type\n",
       "2  51468.847174           Gr Liv Area, Bldg Type, and Interactions\n",
       "3  54087.215042  Gr Liv Area Degree 5, TotRms AbvGrd Degree 5, ..."
      ]
     },
     "execution_count": 26,
     "metadata": {},
     "output_type": "execute_result"
    }
   ],
   "source": [
    "# Using a 5-degree polynomial on size, a 5-degree polynomial on number of rooms,\n",
    "# and also building type. Set up a pipeline for each of these four models.\n",
    "\n",
    "lr = LinearRegression()\n",
    "poly = PolynomialFeatures(5)\n",
    "enc = OneHotEncoder(sparse_output=False)\n",
    "\n",
    "ct_1 = ColumnTransformer([\n",
    "    (\"one_hot\", enc, [\"Bldg Type\"]),\n",
    "    (\"poly_deg5_1\", poly, [\"Gr Liv Area\"]),\n",
    "    (\"poly_deg5_2\", poly, [\"TotRms AbvGrd\"])\n",
    "])\n",
    "\n",
    "pipeline_4 = Pipeline(\n",
    "  [(\"col_transform\", ct_1),\n",
    "  (\"linear_regression\", lr)]\n",
    ").set_output(transform = \"pandas\")\n",
    "\n",
    "pipeline_4_fitted = pipeline_4.fit(X_train, y_train)\n",
    "preds_4 = pipeline_4_fitted.predict(X_test)\n",
    "rmse_4 = mean_squared_error(y_test, preds_4, squared=False)\n",
    "\n",
    "new_row = [rmse_4, \"Gr Liv Area Degree 5, TotRms AbvGrd Degree 5, Bldg Type\"]\n",
    "rmse_df.loc[len(rmse_df.index)] = new_row\n",
    "rmse_df"
   ]
  },
  {
   "cell_type": "code",
   "execution_count": 27,
   "metadata": {
    "colab": {
     "base_uri": "https://localhost:8080/",
     "height": 175
    },
    "id": "igVetmVNmIAK",
    "outputId": "556c902b-ed3f-4bfa-eebb-8c1ff53115ee"
   },
   "outputs": [
    {
     "data": {
      "text/html": [
       "<div>\n",
       "<style scoped>\n",
       "    .dataframe tbody tr th:only-of-type {\n",
       "        vertical-align: middle;\n",
       "    }\n",
       "\n",
       "    .dataframe tbody tr th {\n",
       "        vertical-align: top;\n",
       "    }\n",
       "\n",
       "    .dataframe thead th {\n",
       "        text-align: right;\n",
       "    }\n",
       "</style>\n",
       "<table border=\"1\" class=\"dataframe\">\n",
       "  <thead>\n",
       "    <tr style=\"text-align: right;\">\n",
       "      <th></th>\n",
       "      <th>RMSE</th>\n",
       "      <th>Predictor Vars</th>\n",
       "    </tr>\n",
       "  </thead>\n",
       "  <tbody>\n",
       "    <tr>\n",
       "      <th>2</th>\n",
       "      <td>51468.847174</td>\n",
       "      <td>Gr Liv Area, Bldg Type, and Interactions</td>\n",
       "    </tr>\n",
       "    <tr>\n",
       "      <th>1</th>\n",
       "      <td>51902.382754</td>\n",
       "      <td>Gr Liv Area, TotRms AbvGrd, Bldg Type</td>\n",
       "    </tr>\n",
       "    <tr>\n",
       "      <th>0</th>\n",
       "      <td>53916.474342</td>\n",
       "      <td>Gr Liv Area, TotRms AbvGrd</td>\n",
       "    </tr>\n",
       "    <tr>\n",
       "      <th>3</th>\n",
       "      <td>54087.215042</td>\n",
       "      <td>Gr Liv Area Degree 5, TotRms AbvGrd Degree 5, ...</td>\n",
       "    </tr>\n",
       "  </tbody>\n",
       "</table>\n",
       "</div>"
      ],
      "text/plain": [
       "           RMSE                                     Predictor Vars\n",
       "2  51468.847174           Gr Liv Area, Bldg Type, and Interactions\n",
       "1  51902.382754              Gr Liv Area, TotRms AbvGrd, Bldg Type\n",
       "0  53916.474342                         Gr Liv Area, TotRms AbvGrd\n",
       "3  54087.215042  Gr Liv Area Degree 5, TotRms AbvGrd Degree 5, ..."
      ]
     },
     "execution_count": 27,
     "metadata": {},
     "output_type": "execute_result"
    }
   ],
   "source": [
    "rmse_df.sort_values(by=[\"RMSE\"])"
   ]
  },
  {
   "cell_type": "markdown",
   "metadata": {
    "id": "VjBE0Q5i25xu"
   },
   "source": [
    "#### The model that performed best was the model with Gr Liv Area, Bldg Type, and interactions between the two."
   ]
  },
  {
   "cell_type": "markdown",
   "metadata": {
    "id": "sZcElL_eI3p4"
   },
   "source": [
    "#### Cross-Validation\n",
    "Procedure for 5-fold cross-validation:\n",
    "1. Randomly divide the houses into 5 sets. Call these fold1, fold2, ..., fold5.\n",
    "2. Make fold1 the test set, and fold2-fold5 the train set\n",
    "3. Fir the data on the houses in the training set, predict the prices of the houses test set, and record the resulting R-squared.\n",
    "4. Repeat 2 and 3 and let each fold have a turn as the test set.\n",
    "5. Take the average of the 5 different R-squared values"
   ]
  },
  {
   "cell_type": "code",
   "execution_count": 28,
   "metadata": {
    "colab": {
     "base_uri": "https://localhost:8080/"
    },
    "id": "G31dPntuJdQx",
    "outputId": "d0bdcd77-7760-4e0e-9788-0891b06995fa"
   },
   "outputs": [
    {
     "data": {
      "text/plain": [
       "array([0.53292087, 0.48425809, 0.21608789, 0.55091396, 0.39478537,\n",
       "       0.38370869, 0.65638132, 0.4604257 , 0.65604063, 0.46110802])"
      ]
     },
     "execution_count": 28,
     "metadata": {},
     "output_type": "execute_result"
    }
   ],
   "source": [
    "from sklearn.model_selection import cross_val_score\n",
    "\n",
    "X = ames.drop(\"SalePrice\", axis = 1)\n",
    "y = ames[\"SalePrice\"]\n",
    "\n",
    "\n",
    "ct = ColumnTransformer([\n",
    "\n",
    "    (\"dummify\", OneHotEncoder(sparse_output = False), [\"Bldg Type\"]),\n",
    "    (\"standardize\", StandardScaler(), [\"Gr Liv Area\", \"TotRms AbvGrd\"])\n",
    "\n",
    "], remainder = \"drop\")\n",
    "\n",
    "lr_pipeline_1 = Pipeline(\n",
    "  [(\"preprocessing\", ct),\n",
    "  (\"linear_regression\", LinearRegression())]\n",
    ").set_output(transform=\"pandas\")\n",
    "\n",
    "\n",
    "scores = cross_val_score(lr_pipeline_1, X, y, cv=10, scoring='r2')\n",
    "scores"
   ]
  },
  {
   "cell_type": "code",
   "execution_count": 29,
   "metadata": {
    "colab": {
     "base_uri": "https://localhost:8080/"
    },
    "id": "qDM24zrcJtVw",
    "outputId": "01445687-711b-4d7c-c243-ab547fe350dc"
   },
   "outputs": [
    {
     "data": {
      "text/plain": [
       "0.47966305427780015"
      ]
     },
     "execution_count": 29,
     "metadata": {},
     "output_type": "execute_result"
    }
   ],
   "source": [
    "scores.mean()"
   ]
  },
  {
   "cell_type": "markdown",
   "metadata": {
    "id": "umNMBq0CKl07"
   },
   "source": [
    "### Practice Activity: Cross Validation\n",
    "Once again consider four modeling options for house price:\n",
    "\n",
    "1. Using only the size and number of rooms.\n",
    "2. Using size, number of rooms, and building type.\n",
    "3. Using size and building type, and their interaction.\n",
    "4. Using a 5-degree polynomial on size, a 5-degree polynomial on number of rooms, and also building type.\n",
    "\n",
    "Use cross_val_score with the pipelines you made earlier to find the cross-validated root mean squared error for each model.\n",
    "\n",
    "Which do you prefer? Does this agree with your conclusion from earlier?"
   ]
  },
  {
   "cell_type": "code",
   "execution_count": 30,
   "metadata": {
    "id": "Dc3ZRvlLmTSs"
   },
   "outputs": [],
   "source": [
    "rmse_df[\"5CV_RMSE\"] = [abs(cross_val_score(pipeline_1, X, y, cv=5, scoring=\"neg_root_mean_squared_error\")).mean(),\n",
    "                       abs(cross_val_score(pipeline_2, X, y, cv=5, scoring=\"neg_root_mean_squared_error\")).mean(),\n",
    "                       abs(cross_val_score(pipeline_3, X, y, cv=5, scoring=\"neg_root_mean_squared_error\")).mean(),\n",
    "                       abs(cross_val_score(pipeline_4, X, y, cv=5, scoring=\"neg_root_mean_squared_error\")).mean()]\n"
   ]
  },
  {
   "cell_type": "code",
   "execution_count": 31,
   "metadata": {
    "colab": {
     "base_uri": "https://localhost:8080/",
     "height": 175
    },
    "id": "5HBcTecHomW1",
    "outputId": "22d7ca07-8796-44cd-d19e-e59c940ec475"
   },
   "outputs": [
    {
     "data": {
      "text/html": [
       "<div>\n",
       "<style scoped>\n",
       "    .dataframe tbody tr th:only-of-type {\n",
       "        vertical-align: middle;\n",
       "    }\n",
       "\n",
       "    .dataframe tbody tr th {\n",
       "        vertical-align: top;\n",
       "    }\n",
       "\n",
       "    .dataframe thead th {\n",
       "        text-align: right;\n",
       "    }\n",
       "</style>\n",
       "<table border=\"1\" class=\"dataframe\">\n",
       "  <thead>\n",
       "    <tr style=\"text-align: right;\">\n",
       "      <th></th>\n",
       "      <th>RMSE</th>\n",
       "      <th>Predictor Vars</th>\n",
       "      <th>5CV_RMSE</th>\n",
       "    </tr>\n",
       "  </thead>\n",
       "  <tbody>\n",
       "    <tr>\n",
       "      <th>2</th>\n",
       "      <td>51468.847174</td>\n",
       "      <td>Gr Liv Area, Bldg Type, and Interactions</td>\n",
       "      <td>53440.886755</td>\n",
       "    </tr>\n",
       "    <tr>\n",
       "      <th>1</th>\n",
       "      <td>51902.382754</td>\n",
       "      <td>Gr Liv Area, TotRms AbvGrd, Bldg Type</td>\n",
       "      <td>54168.081429</td>\n",
       "    </tr>\n",
       "    <tr>\n",
       "      <th>0</th>\n",
       "      <td>53916.474342</td>\n",
       "      <td>Gr Liv Area, TotRms AbvGrd</td>\n",
       "      <td>55806.326349</td>\n",
       "    </tr>\n",
       "    <tr>\n",
       "      <th>3</th>\n",
       "      <td>54087.215042</td>\n",
       "      <td>Gr Liv Area Degree 5, TotRms AbvGrd Degree 5, ...</td>\n",
       "      <td>56303.178211</td>\n",
       "    </tr>\n",
       "  </tbody>\n",
       "</table>\n",
       "</div>"
      ],
      "text/plain": [
       "           RMSE                                     Predictor Vars  \\\n",
       "2  51468.847174           Gr Liv Area, Bldg Type, and Interactions   \n",
       "1  51902.382754              Gr Liv Area, TotRms AbvGrd, Bldg Type   \n",
       "0  53916.474342                         Gr Liv Area, TotRms AbvGrd   \n",
       "3  54087.215042  Gr Liv Area Degree 5, TotRms AbvGrd Degree 5, ...   \n",
       "\n",
       "       5CV_RMSE  \n",
       "2  53440.886755  \n",
       "1  54168.081429  \n",
       "0  55806.326349  \n",
       "3  56303.178211  "
      ]
     },
     "execution_count": 31,
     "metadata": {},
     "output_type": "execute_result"
    }
   ],
   "source": [
    "rmse_df.sort_values(by=[\"5CV_RMSE\"])"
   ]
  },
  {
   "cell_type": "markdown",
   "metadata": {
    "id": "1wwUbnKD2ZNP"
   },
   "source": [
    "#### The model we prefer is still the model with Interactions, though when we average we see the model in truth performed worse than we thought from a single train/test split in the beginning. My conclusion from earlier is still valid."
   ]
  },
  {
   "cell_type": "markdown",
   "metadata": {
    "id": "VBBvzHbKKBC0"
   },
   "source": [
    "#### Model Tuning"
   ]
  },
  {
   "cell_type": "code",
   "execution_count": 32,
   "metadata": {
    "id": "th83GlnfKErO"
   },
   "outputs": [],
   "source": [
    "from sklearn.model_selection import GridSearchCV\n",
    "\n",
    "ct_poly = ColumnTransformer(\n",
    "  [\n",
    "    (\"dummify\", OneHotEncoder(sparse_output = False), [\"Bldg Type\"]),\n",
    "    (\"polynomial\", PolynomialFeatures(), [\"Gr Liv Area\"])\n",
    "  ],\n",
    "  remainder = \"drop\"\n",
    ")\n",
    "\n",
    "lr_pipeline_poly = Pipeline(\n",
    "  [(\"preprocessing\", ct_poly),\n",
    "  (\"linear_regression\", LinearRegression())]\n",
    ").set_output(transform=\"pandas\")\n",
    "\n",
    "degrees = {'preprocessing__polynomial__degree': np.arange(1, 10)}\n",
    "\n",
    "gscv = GridSearchCV(lr_pipeline_poly, degrees, cv = 5, scoring='r2')"
   ]
  },
  {
   "cell_type": "code",
   "execution_count": 33,
   "metadata": {
    "colab": {
     "base_uri": "https://localhost:8080/"
    },
    "id": "kL6nz6EhKkMK",
    "outputId": "902cd064-d5c3-477b-f18e-b977d146a704"
   },
   "outputs": [
    {
     "data": {
      "text/plain": [
       "{'mean_fit_time': array([0.00771232, 0.00778399, 0.01406164, 0.00550132, 0.00396399,\n",
       "        0.00402951, 0.00446267, 0.0043016 , 0.00435343]),\n",
       " 'std_fit_time': array([4.77763727e-03, 3.23396414e-03, 6.75467624e-03, 3.05752405e-03,\n",
       "        6.73467962e-05, 2.67173524e-05, 2.70040524e-04, 6.07819446e-05,\n",
       "        1.25571478e-04]),\n",
       " 'mean_score_time': array([0.00332651, 0.00205212, 0.00509195, 0.00174155, 0.00168881,\n",
       "        0.0016964 , 0.00180655, 0.00178132, 0.00177422]),\n",
       " 'std_score_time': array([2.12556488e-03, 4.11382879e-04, 2.90563536e-03, 8.96660040e-05,\n",
       "        1.90637087e-05, 4.34785549e-06, 1.17592665e-04, 5.91488770e-05,\n",
       "        4.33593143e-05]),\n",
       " 'param_preprocessing__polynomial__degree': masked_array(data=[1, 2, 3, 4, 5, 6, 7, 8, 9],\n",
       "              mask=[False, False, False, False, False, False, False, False,\n",
       "                    False],\n",
       "        fill_value='?',\n",
       "             dtype=object),\n",
       " 'params': [{'preprocessing__polynomial__degree': 1},\n",
       "  {'preprocessing__polynomial__degree': 2},\n",
       "  {'preprocessing__polynomial__degree': 3},\n",
       "  {'preprocessing__polynomial__degree': 4},\n",
       "  {'preprocessing__polynomial__degree': 5},\n",
       "  {'preprocessing__polynomial__degree': 6},\n",
       "  {'preprocessing__polynomial__degree': 7},\n",
       "  {'preprocessing__polynomial__degree': 8},\n",
       "  {'preprocessing__polynomial__degree': 9}],\n",
       " 'split0_test_score': array([0.53667199, 0.53861812, 0.55155397, 0.55000299, 0.50847886,\n",
       "        0.50803388, 0.50404864, 0.48824759, 0.45353318]),\n",
       " 'split1_test_score': array([0.52379929, 0.51739889, 0.52489524, 0.52536327, 0.45451042,\n",
       "        0.45231332, 0.44389116, 0.42226201, 0.38464169]),\n",
       " 'split2_test_score': array([  0.43205901,   0.44999102,   0.50538581,   0.45008921,\n",
       "          0.1733882 ,  -0.39418512,  -1.67096399,  -4.78706736,\n",
       "        -12.6045523 ]),\n",
       " 'split3_test_score': array([  0.56266573,   0.57574172,   0.58653708,   0.59197747,\n",
       "          0.54742275,   0.53273129,   0.31370342,  -1.49591606,\n",
       "        -11.46561678]),\n",
       " 'split4_test_score': array([0.59424739, 0.57528078, 0.58780969, 0.59316272, 0.57550038,\n",
       "        0.5702938 , 0.55592936, 0.53199328, 0.50402512]),\n",
       " 'mean_test_score': array([ 0.52988868,  0.5314061 ,  0.55123636,  0.54211913,  0.45186012,\n",
       "         0.33383744,  0.02932172, -0.96809611, -4.54559382]),\n",
       " 'std_test_score': array([0.05453461, 0.04640531, 0.03280237, 0.05273277, 0.14503685,\n",
       "        0.36602408, 0.85397816, 2.05754398, 6.12585788]),\n",
       " 'rank_test_score': array([4, 3, 1, 2, 5, 6, 7, 8, 9], dtype=int32)}"
      ]
     },
     "execution_count": 33,
     "metadata": {},
     "output_type": "execute_result"
    }
   ],
   "source": [
    "gscv_fitted = gscv.fit(X, y)\n",
    "\n",
    "gscv_fitted.cv_results_"
   ]
  },
  {
   "cell_type": "markdown",
   "metadata": {
    "id": "LIkwGZShK4lN"
   },
   "source": [
    "### This gives us too much information. Instead we want to access the cross-validated metric."
   ]
  },
  {
   "cell_type": "code",
   "execution_count": 34,
   "metadata": {
    "colab": {
     "base_uri": "https://localhost:8080/"
    },
    "id": "2hpRcbKOK3rl",
    "outputId": "828d8a0a-a7b2-42f9-eddb-aa81aaf46a98"
   },
   "outputs": [
    {
     "data": {
      "text/plain": [
       "array([ 0.52988868,  0.5314061 ,  0.55123636,  0.54211913,  0.45186012,\n",
       "        0.33383744,  0.02932172, -0.96809611, -4.54559382])"
      ]
     },
     "execution_count": 34,
     "metadata": {},
     "output_type": "execute_result"
    }
   ],
   "source": [
    "gscv_fitted.cv_results_['mean_test_score']"
   ]
  },
  {
   "cell_type": "code",
   "execution_count": 35,
   "metadata": {
    "colab": {
     "base_uri": "https://localhost:8080/",
     "height": 332
    },
    "id": "jtKsVI0uK-_P",
    "outputId": "5519f400-3ca9-4876-f8e9-1fe46fd50541"
   },
   "outputs": [
    {
     "data": {
      "text/html": [
       "<div>\n",
       "<style scoped>\n",
       "    .dataframe tbody tr th:only-of-type {\n",
       "        vertical-align: middle;\n",
       "    }\n",
       "\n",
       "    .dataframe tbody tr th {\n",
       "        vertical-align: top;\n",
       "    }\n",
       "\n",
       "    .dataframe thead th {\n",
       "        text-align: right;\n",
       "    }\n",
       "</style>\n",
       "<table border=\"1\" class=\"dataframe\">\n",
       "  <thead>\n",
       "    <tr style=\"text-align: right;\">\n",
       "      <th></th>\n",
       "      <th>degrees</th>\n",
       "      <th>scores</th>\n",
       "    </tr>\n",
       "  </thead>\n",
       "  <tbody>\n",
       "    <tr>\n",
       "      <th>0</th>\n",
       "      <td>1</td>\n",
       "      <td>0.529889</td>\n",
       "    </tr>\n",
       "    <tr>\n",
       "      <th>1</th>\n",
       "      <td>2</td>\n",
       "      <td>0.531406</td>\n",
       "    </tr>\n",
       "    <tr>\n",
       "      <th>2</th>\n",
       "      <td>3</td>\n",
       "      <td>0.551236</td>\n",
       "    </tr>\n",
       "    <tr>\n",
       "      <th>3</th>\n",
       "      <td>4</td>\n",
       "      <td>0.542119</td>\n",
       "    </tr>\n",
       "    <tr>\n",
       "      <th>4</th>\n",
       "      <td>5</td>\n",
       "      <td>0.451860</td>\n",
       "    </tr>\n",
       "    <tr>\n",
       "      <th>5</th>\n",
       "      <td>6</td>\n",
       "      <td>0.333837</td>\n",
       "    </tr>\n",
       "    <tr>\n",
       "      <th>6</th>\n",
       "      <td>7</td>\n",
       "      <td>0.029322</td>\n",
       "    </tr>\n",
       "    <tr>\n",
       "      <th>7</th>\n",
       "      <td>8</td>\n",
       "      <td>-0.968096</td>\n",
       "    </tr>\n",
       "    <tr>\n",
       "      <th>8</th>\n",
       "      <td>9</td>\n",
       "      <td>-4.545594</td>\n",
       "    </tr>\n",
       "  </tbody>\n",
       "</table>\n",
       "</div>"
      ],
      "text/plain": [
       "   degrees    scores\n",
       "0        1  0.529889\n",
       "1        2  0.531406\n",
       "2        3  0.551236\n",
       "3        4  0.542119\n",
       "4        5  0.451860\n",
       "5        6  0.333837\n",
       "6        7  0.029322\n",
       "7        8 -0.968096\n",
       "8        9 -4.545594"
      ]
     },
     "execution_count": 35,
     "metadata": {},
     "output_type": "execute_result"
    }
   ],
   "source": [
    "pd.DataFrame(data = {\"degrees\": np.arange(1, 10), \"scores\": gscv_fitted.cv_results_['mean_test_score']})"
   ]
  },
  {
   "cell_type": "markdown",
   "metadata": {
    "id": "OLIwXNx-ODem"
   },
   "source": [
    "### Practice Activity: Grid Search\n",
    "Consider one hundred modeling options for house price:\n",
    "\n",
    "1. House size, trying degrees 1 through 10\n",
    "2. Number of rooms, trying degrees 1 through 10\n",
    "3. Building Type\n",
    "\n",
    "Hint: The dictionary of possible values that you make to give to GridSearchCV will have two elements instead of one.\n",
    "\n",
    "Q1: Which model performed the best?\n",
    "\n",
    "Q2: What downsides do you see of trying all possible model options? How might you go about choosing a smaller number of tuning values to try?"
   ]
  },
  {
   "cell_type": "code",
   "execution_count": 36,
   "metadata": {
    "id": "WsXK57PcOHHn"
   },
   "outputs": [],
   "source": [
    "ct_poly = ColumnTransformer(\n",
    "  [\n",
    "    (\"dummify\", OneHotEncoder(sparse_output = False), [\"Bldg Type\"]),\n",
    "    (\"polynomial_house_size\", PolynomialFeatures(), [\"Gr Liv Area\"]),\n",
    "    (\"polynomial_room_num\", PolynomialFeatures(), [\"TotRms AbvGrd\"])\n",
    "  ],\n",
    "  remainder = \"drop\"\n",
    ")\n",
    "\n",
    "lr_pipeline_poly = Pipeline(\n",
    "  [(\"preprocessing\", ct_poly),\n",
    "  (\"linear_regression\", LinearRegression())]\n",
    ").set_output(transform=\"pandas\")\n",
    "\n",
    "degrees = {\"preprocessing__polynomial_house_size__degree\" : np.arange(1, 11),\n",
    "           \"preprocessing__polynomial_room_num__degree\" : np.arange(1, 11)}\n",
    "\n",
    "gscv = GridSearchCV(lr_pipeline_poly, degrees, cv = 5, scoring=\"neg_root_mean_squared_error\")"
   ]
  },
  {
   "cell_type": "code",
   "execution_count": 37,
   "metadata": {
    "id": "Ys6Ebk7ruCVo"
   },
   "outputs": [],
   "source": [
    "gscv_fitted = gscv.fit(X, y)"
   ]
  },
  {
   "cell_type": "code",
   "execution_count": 38,
   "metadata": {
    "colab": {
     "base_uri": "https://localhost:8080/",
     "height": 206
    },
    "id": "UoOJGYeouraf",
    "outputId": "96938f83-b8cb-4b25-f5d0-d1d03d040cf5"
   },
   "outputs": [
    {
     "data": {
      "text/html": [
       "<div>\n",
       "<style scoped>\n",
       "    .dataframe tbody tr th:only-of-type {\n",
       "        vertical-align: middle;\n",
       "    }\n",
       "\n",
       "    .dataframe tbody tr th {\n",
       "        vertical-align: top;\n",
       "    }\n",
       "\n",
       "    .dataframe thead th {\n",
       "        text-align: right;\n",
       "    }\n",
       "</style>\n",
       "<table border=\"1\" class=\"dataframe\">\n",
       "  <thead>\n",
       "    <tr style=\"text-align: right;\">\n",
       "      <th></th>\n",
       "      <th>Gr Liv Area Deg</th>\n",
       "      <th>TotRms AbvGrd Deg</th>\n",
       "      <th>RMSE</th>\n",
       "    </tr>\n",
       "  </thead>\n",
       "  <tbody>\n",
       "    <tr>\n",
       "      <th>20</th>\n",
       "      <td>3</td>\n",
       "      <td>1</td>\n",
       "      <td>52781.985438</td>\n",
       "    </tr>\n",
       "    <tr>\n",
       "      <th>33</th>\n",
       "      <td>4</td>\n",
       "      <td>4</td>\n",
       "      <td>52808.685447</td>\n",
       "    </tr>\n",
       "    <tr>\n",
       "      <th>34</th>\n",
       "      <td>4</td>\n",
       "      <td>5</td>\n",
       "      <td>52831.987980</td>\n",
       "    </tr>\n",
       "    <tr>\n",
       "      <th>21</th>\n",
       "      <td>3</td>\n",
       "      <td>2</td>\n",
       "      <td>52837.445387</td>\n",
       "    </tr>\n",
       "    <tr>\n",
       "      <th>36</th>\n",
       "      <td>4</td>\n",
       "      <td>7</td>\n",
       "      <td>52956.076590</td>\n",
       "    </tr>\n",
       "  </tbody>\n",
       "</table>\n",
       "</div>"
      ],
      "text/plain": [
       "    Gr Liv Area Deg  TotRms AbvGrd Deg          RMSE\n",
       "20                3                  1  52781.985438\n",
       "33                4                  4  52808.685447\n",
       "34                4                  5  52831.987980\n",
       "21                3                  2  52837.445387\n",
       "36                4                  7  52956.076590"
      ]
     },
     "execution_count": 38,
     "metadata": {},
     "output_type": "execute_result"
    }
   ],
   "source": [
    "results = gscv_fitted.cv_results_\n",
    "\n",
    "data_to_frame = []\n",
    "\n",
    "for i in range(len(results['params'])):\n",
    "    row_entry = {\n",
    "        'Gr Liv Area Deg': results['params'][i]['preprocessing__polynomial_house_size__degree'],\n",
    "        'TotRms AbvGrd Deg': results['params'][i]['preprocessing__polynomial_room_num__degree'],\n",
    "        'RMSE': -results['mean_test_score'][i]\n",
    "    }\n",
    "    data_to_frame.append(row_entry)\n",
    "\n",
    "df = pd.DataFrame(data_to_frame)\n",
    "\n",
    "df.sort_values(by=[\"RMSE\"]).head()"
   ]
  },
  {
   "cell_type": "code",
   "execution_count": 42,
   "metadata": {},
   "outputs": [],
   "source": [
    "ct_poly = ColumnTransformer(\n",
    "  [\n",
    "    (\"dummify\", OneHotEncoder(sparse_output = False), [\"Bldg Type\"]),\n",
    "    (\"polynomial_house_size\", PolynomialFeatures(3), [\"Gr Liv Area\"]),\n",
    "    (\"polynomial_room_num\", PolynomialFeatures(1), [\"TotRms AbvGrd\"])\n",
    "  ],\n",
    "  remainder = \"drop\"\n",
    ")\n",
    "\n",
    "lr_pipeline_poly = Pipeline(\n",
    "  [(\"preprocessing\", ct_poly),\n",
    "  (\"linear_regression\", LinearRegression())]\n",
    ").set_output(transform=\"pandas\")\n",
    "\n",
    "fitted_lr_pipeline = lr_pipeline_poly.fit(X_train, y_train)"
   ]
  },
  {
   "cell_type": "code",
   "execution_count": 43,
   "metadata": {},
   "outputs": [
    {
     "data": {
      "text/plain": [
       "0.5885255839334983"
      ]
     },
     "execution_count": 43,
     "metadata": {},
     "output_type": "execute_result"
    }
   ],
   "source": [
    "y_preds = fitted_lr_pipeline.predict(X_test)\n",
    "r2_score(y_test, y_preds)"
   ]
  },
  {
   "cell_type": "markdown",
   "metadata": {
    "id": "4l2JAlOy1n_j"
   },
   "source": [
    "### Q1: The best model is a degree 3 polynomial applied to Liv Area Deg, and the standard single-degree TotRms AbvGrd.\n",
    "\n",
    "### Q2: This could end up taking a long time to perform the grid search, and we want to see the results at the end which was a little annoying to lay out in a for loop. We could space out some tuning values, say 1, 4, 6, and 10, for each of the variables. Then, if the values the model settled on where 4 for var1 and 6 for var2, we could then try 2,3,4,5 for var1 and 5,6,7,8,9 for var2. We could narrow down more slowly on the optimal values."
   ]
  }
 ],
 "metadata": {
  "colab": {
   "provenance": []
  },
  "kernelspec": {
   "display_name": "Python 3 (ipykernel)",
   "language": "python",
   "name": "python3"
  },
  "language_info": {
   "codemirror_mode": {
    "name": "ipython",
    "version": 3
   },
   "file_extension": ".py",
   "mimetype": "text/x-python",
   "name": "python",
   "nbconvert_exporter": "python",
   "pygments_lexer": "ipython3",
   "version": "3.10.4"
  }
 },
 "nbformat": 4,
 "nbformat_minor": 1
}
