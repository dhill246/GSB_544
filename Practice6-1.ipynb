{
 "cells": [
  {
   "cell_type": "raw",
   "metadata": {},
   "source": [
    "---\n",
    "title: \"Practice 6.1: Polynomial Regression\"\n",
    "self-contained: True\n",
    "format:\n",
    "  html:\n",
    "    theme: darkly\n",
    "---"
   ]
  },
  {
   "cell_type": "markdown",
   "metadata": {
    "id": "M3NFTx_UIZjO"
   },
   "source": [
    "# Palmer Penguins Modeling\n",
    "\n",
    "Import the Palmer Penguins dataset and print out the first few rows.\n",
    "\n",
    "Suppose we want to predict `bill_depth_mm` using the other variables in the dataset.\n",
    "\n",
    "Which variables would we need to **dummify**?\n",
    "\n",
    "- We need to dummify species, island, and sex."
   ]
  },
  {
   "cell_type": "code",
   "execution_count": 33,
   "metadata": {
    "colab": {
     "base_uri": "https://localhost:8080/"
    },
    "id": "1qORRMcts6VV",
    "outputId": "e6903cea-2906-415c-885c-8ff26cc5e3b3"
   },
   "outputs": [
    {
     "name": "stdout",
     "output_type": "stream",
     "text": [
      "Requirement already satisfied: palmerpenguins in /Library/Frameworks/Python.framework/Versions/3.10/lib/python3.10/site-packages (0.1.4)\r\n",
      "Requirement already satisfied: pandas in /Library/Frameworks/Python.framework/Versions/3.10/lib/python3.10/site-packages (from palmerpenguins) (1.5.3)\r\n",
      "Requirement already satisfied: numpy in /Library/Frameworks/Python.framework/Versions/3.10/lib/python3.10/site-packages (from palmerpenguins) (1.24.4)\r\n",
      "Requirement already satisfied: python-dateutil>=2.8.1 in /Library/Frameworks/Python.framework/Versions/3.10/lib/python3.10/site-packages (from pandas->palmerpenguins) (2.8.2)\r\n",
      "Requirement already satisfied: pytz>=2020.1 in /Library/Frameworks/Python.framework/Versions/3.10/lib/python3.10/site-packages (from pandas->palmerpenguins) (2022.1)\r\n",
      "Requirement already satisfied: six>=1.5 in /Library/Frameworks/Python.framework/Versions/3.10/lib/python3.10/site-packages (from python-dateutil>=2.8.1->pandas->palmerpenguins) (1.16.0)\r\n"
     ]
    }
   ],
   "source": [
    "!pip install palmerpenguins"
   ]
  },
  {
   "cell_type": "code",
   "execution_count": 34,
   "metadata": {
    "id": "dDD69T-VISjB"
   },
   "outputs": [],
   "source": [
    "from palmerpenguins import load_penguins\n",
    "from sklearn.pipeline import Pipeline\n",
    "from sklearn.linear_model import LinearRegression\n",
    "from sklearn.preprocessing import OneHotEncoder\n",
    "from sklearn.model_selection import train_test_split\n",
    "from sklearn.compose import ColumnTransformer\n",
    "from sklearn.preprocessing import PolynomialFeatures\n",
    "import pandas as pd\n",
    "import numpy as np"
   ]
  },
  {
   "cell_type": "code",
   "execution_count": 35,
   "metadata": {
    "id": "1RJZFkVcs3pb"
   },
   "outputs": [],
   "source": [
    "penguins = load_penguins()"
   ]
  },
  {
   "cell_type": "code",
   "execution_count": 36,
   "metadata": {
    "colab": {
     "base_uri": "https://localhost:8080/",
     "height": 424
    },
    "id": "iNe58xmduh5b",
    "outputId": "8b2c3cd9-33e3-4d74-de4d-ee52b9982a83"
   },
   "outputs": [
    {
     "data": {
      "text/html": [
       "<div>\n",
       "<style scoped>\n",
       "    .dataframe tbody tr th:only-of-type {\n",
       "        vertical-align: middle;\n",
       "    }\n",
       "\n",
       "    .dataframe tbody tr th {\n",
       "        vertical-align: top;\n",
       "    }\n",
       "\n",
       "    .dataframe thead th {\n",
       "        text-align: right;\n",
       "    }\n",
       "</style>\n",
       "<table border=\"1\" class=\"dataframe\">\n",
       "  <thead>\n",
       "    <tr style=\"text-align: right;\">\n",
       "      <th></th>\n",
       "      <th>species</th>\n",
       "      <th>island</th>\n",
       "      <th>bill_length_mm</th>\n",
       "      <th>bill_depth_mm</th>\n",
       "      <th>flipper_length_mm</th>\n",
       "      <th>body_mass_g</th>\n",
       "      <th>sex</th>\n",
       "      <th>year</th>\n",
       "    </tr>\n",
       "  </thead>\n",
       "  <tbody>\n",
       "    <tr>\n",
       "      <th>0</th>\n",
       "      <td>Adelie</td>\n",
       "      <td>Torgersen</td>\n",
       "      <td>39.1</td>\n",
       "      <td>18.7</td>\n",
       "      <td>181.0</td>\n",
       "      <td>3750.0</td>\n",
       "      <td>male</td>\n",
       "      <td>2007</td>\n",
       "    </tr>\n",
       "    <tr>\n",
       "      <th>1</th>\n",
       "      <td>Adelie</td>\n",
       "      <td>Torgersen</td>\n",
       "      <td>39.5</td>\n",
       "      <td>17.4</td>\n",
       "      <td>186.0</td>\n",
       "      <td>3800.0</td>\n",
       "      <td>female</td>\n",
       "      <td>2007</td>\n",
       "    </tr>\n",
       "    <tr>\n",
       "      <th>2</th>\n",
       "      <td>Adelie</td>\n",
       "      <td>Torgersen</td>\n",
       "      <td>40.3</td>\n",
       "      <td>18.0</td>\n",
       "      <td>195.0</td>\n",
       "      <td>3250.0</td>\n",
       "      <td>female</td>\n",
       "      <td>2007</td>\n",
       "    </tr>\n",
       "    <tr>\n",
       "      <th>3</th>\n",
       "      <td>Adelie</td>\n",
       "      <td>Torgersen</td>\n",
       "      <td>NaN</td>\n",
       "      <td>NaN</td>\n",
       "      <td>NaN</td>\n",
       "      <td>NaN</td>\n",
       "      <td>NaN</td>\n",
       "      <td>2007</td>\n",
       "    </tr>\n",
       "    <tr>\n",
       "      <th>4</th>\n",
       "      <td>Adelie</td>\n",
       "      <td>Torgersen</td>\n",
       "      <td>36.7</td>\n",
       "      <td>19.3</td>\n",
       "      <td>193.0</td>\n",
       "      <td>3450.0</td>\n",
       "      <td>female</td>\n",
       "      <td>2007</td>\n",
       "    </tr>\n",
       "    <tr>\n",
       "      <th>...</th>\n",
       "      <td>...</td>\n",
       "      <td>...</td>\n",
       "      <td>...</td>\n",
       "      <td>...</td>\n",
       "      <td>...</td>\n",
       "      <td>...</td>\n",
       "      <td>...</td>\n",
       "      <td>...</td>\n",
       "    </tr>\n",
       "    <tr>\n",
       "      <th>339</th>\n",
       "      <td>Chinstrap</td>\n",
       "      <td>Dream</td>\n",
       "      <td>55.8</td>\n",
       "      <td>19.8</td>\n",
       "      <td>207.0</td>\n",
       "      <td>4000.0</td>\n",
       "      <td>male</td>\n",
       "      <td>2009</td>\n",
       "    </tr>\n",
       "    <tr>\n",
       "      <th>340</th>\n",
       "      <td>Chinstrap</td>\n",
       "      <td>Dream</td>\n",
       "      <td>43.5</td>\n",
       "      <td>18.1</td>\n",
       "      <td>202.0</td>\n",
       "      <td>3400.0</td>\n",
       "      <td>female</td>\n",
       "      <td>2009</td>\n",
       "    </tr>\n",
       "    <tr>\n",
       "      <th>341</th>\n",
       "      <td>Chinstrap</td>\n",
       "      <td>Dream</td>\n",
       "      <td>49.6</td>\n",
       "      <td>18.2</td>\n",
       "      <td>193.0</td>\n",
       "      <td>3775.0</td>\n",
       "      <td>male</td>\n",
       "      <td>2009</td>\n",
       "    </tr>\n",
       "    <tr>\n",
       "      <th>342</th>\n",
       "      <td>Chinstrap</td>\n",
       "      <td>Dream</td>\n",
       "      <td>50.8</td>\n",
       "      <td>19.0</td>\n",
       "      <td>210.0</td>\n",
       "      <td>4100.0</td>\n",
       "      <td>male</td>\n",
       "      <td>2009</td>\n",
       "    </tr>\n",
       "    <tr>\n",
       "      <th>343</th>\n",
       "      <td>Chinstrap</td>\n",
       "      <td>Dream</td>\n",
       "      <td>50.2</td>\n",
       "      <td>18.7</td>\n",
       "      <td>198.0</td>\n",
       "      <td>3775.0</td>\n",
       "      <td>female</td>\n",
       "      <td>2009</td>\n",
       "    </tr>\n",
       "  </tbody>\n",
       "</table>\n",
       "<p>344 rows × 8 columns</p>\n",
       "</div>"
      ],
      "text/plain": [
       "       species     island  bill_length_mm  bill_depth_mm  flipper_length_mm  \\\n",
       "0       Adelie  Torgersen            39.1           18.7              181.0   \n",
       "1       Adelie  Torgersen            39.5           17.4              186.0   \n",
       "2       Adelie  Torgersen            40.3           18.0              195.0   \n",
       "3       Adelie  Torgersen             NaN            NaN                NaN   \n",
       "4       Adelie  Torgersen            36.7           19.3              193.0   \n",
       "..         ...        ...             ...            ...                ...   \n",
       "339  Chinstrap      Dream            55.8           19.8              207.0   \n",
       "340  Chinstrap      Dream            43.5           18.1              202.0   \n",
       "341  Chinstrap      Dream            49.6           18.2              193.0   \n",
       "342  Chinstrap      Dream            50.8           19.0              210.0   \n",
       "343  Chinstrap      Dream            50.2           18.7              198.0   \n",
       "\n",
       "     body_mass_g     sex  year  \n",
       "0         3750.0    male  2007  \n",
       "1         3800.0  female  2007  \n",
       "2         3250.0  female  2007  \n",
       "3            NaN     NaN  2007  \n",
       "4         3450.0  female  2007  \n",
       "..           ...     ...   ...  \n",
       "339       4000.0    male  2009  \n",
       "340       3400.0  female  2009  \n",
       "341       3775.0    male  2009  \n",
       "342       4100.0    male  2009  \n",
       "343       3775.0  female  2009  \n",
       "\n",
       "[344 rows x 8 columns]"
      ]
     },
     "execution_count": 36,
     "metadata": {},
     "output_type": "execute_result"
    }
   ],
   "source": [
    "penguins"
   ]
  },
  {
   "cell_type": "code",
   "execution_count": 45,
   "metadata": {
    "id": "3dh6Y65MtHzj"
   },
   "outputs": [],
   "source": [
    "penguins.head()\n",
    "penguins = penguins.dropna()\n",
    "X = penguins.drop(\"bill_length_mm\", axis=1)\n",
    "y = penguins[\"bill_length_mm\"]\n",
    "\n",
    "X_train, X_test, y_train, y_test = train_test_split(X, y)"
   ]
  },
  {
   "cell_type": "code",
   "execution_count": 46,
   "metadata": {
    "id": "QQM_-VFmtZA3"
   },
   "outputs": [],
   "source": [
    "# Preprocessing: One-Hot-Encode\n",
    "# Model Spec: Linear Regression\n",
    "\n",
    "lr = LinearRegression()\n",
    "enc = OneHotEncoder()\n",
    "cols_to_encode = [\"species\", \"island\", \"sex\"]\n",
    "\n",
    "ct = ColumnTransformer([\n",
    "    (\"One Hot Encoding\", enc, cols_to_encode)\n",
    "])\n",
    "\n",
    "my_pipeline = Pipeline([\n",
    "    (\"Column Transform\", ct),\n",
    "    (\"Linear Regression\", lr)\n",
    "])"
   ]
  },
  {
   "cell_type": "code",
   "execution_count": 47,
   "metadata": {
    "id": "SIDkUqy1ww4J"
   },
   "outputs": [],
   "source": [
    "fitted_pipeline = my_pipeline.fit(X_train, y_train)"
   ]
  },
  {
   "cell_type": "code",
   "execution_count": 48,
   "metadata": {
    "colab": {
     "base_uri": "https://localhost:8080/"
    },
    "id": "5gVOOnMzx2-s",
    "outputId": "9b9bdcdf-6233-403b-951d-f6a0029e7306"
   },
   "outputs": [
    {
     "data": {
      "text/plain": [
       "array([47.40234375, 40.703125  , 47.40234375, 50.83984375, 37.14453125,\n",
       "       40.703125  , 48.9609375 , 40.703125  , 48.9609375 , 48.9609375 ,\n",
       "       37.14453125, 50.83984375, 45.52734375, 40.6015625 , 40.703125  ,\n",
       "       37.26953125, 40.6015625 , 45.52734375, 40.6015625 , 37.26953125,\n",
       "       45.52734375, 48.9609375 , 40.6015625 , 40.578125  , 48.9609375 ,\n",
       "       48.9609375 , 48.9609375 , 40.578125  , 48.9609375 , 40.578125  ,\n",
       "       37.26953125, 45.52734375, 40.578125  , 37.14453125, 47.40234375,\n",
       "       37.14453125, 50.83984375, 40.6015625 , 37.16796875, 45.52734375,\n",
       "       37.14453125, 40.703125  , 45.52734375, 37.14453125, 47.40234375,\n",
       "       37.14453125, 37.14453125, 37.16796875, 45.52734375, 47.40234375,\n",
       "       47.40234375, 45.52734375, 37.26953125, 47.40234375, 47.40234375,\n",
       "       37.16796875, 40.578125  , 45.52734375, 47.40234375, 45.52734375,\n",
       "       47.40234375, 37.14453125, 50.83984375, 48.9609375 , 48.9609375 ,\n",
       "       37.16796875, 45.52734375, 45.52734375, 37.14453125, 48.9609375 ,\n",
       "       40.6015625 , 40.703125  , 48.9609375 , 45.52734375, 40.6015625 ,\n",
       "       45.52734375, 45.52734375, 40.578125  , 40.6015625 , 45.52734375,\n",
       "       45.52734375, 37.14453125, 40.6015625 , 47.40234375])"
      ]
     },
     "execution_count": 48,
     "metadata": {},
     "output_type": "execute_result"
    }
   ],
   "source": [
    "fitted_pipeline.predict(X_test)"
   ]
  },
  {
   "cell_type": "markdown",
   "metadata": {
    "id": "hEwiWESpJLwi"
   },
   "source": [
    "Let's use `bill_length_mm` to predict `bill_depth_mm`. Prepare your data and fit the following models on the entire dataset:\n",
    "\n",
    "* Simple linear regression (e.g. straight-line) model\n",
    "* Quadratic (degree 2 polynomial) model\n",
    "* Cubic (degree 3 polynomial) model\n",
    "* Degree 10 polynomial model\n",
    "\n",
    "Make predictions for each model and plot your fitted models on the scatterplot."
   ]
  },
  {
   "cell_type": "code",
   "execution_count": 49,
   "metadata": {
    "id": "tjuOvH63LQ2b"
   },
   "outputs": [],
   "source": [
    "# Cut the data down to just X: bill_length_mm and y: bill_depth_mm\n",
    "X = penguins[[\"bill_length_mm\"]]\n",
    "y = penguins[\"bill_depth_mm\"]\n",
    "X_train, X_test, y_train, y_test = train_test_split(X, y)"
   ]
  },
  {
   "cell_type": "markdown",
   "metadata": {
    "id": "Lqq0FF2Uzk_9"
   },
   "source": [
    "## Linear Regression:"
   ]
  },
  {
   "cell_type": "code",
   "execution_count": 50,
   "metadata": {
    "id": "s_EYRmd7zmuY"
   },
   "outputs": [],
   "source": [
    "lr = LinearRegression()\n",
    "\n",
    "my_pipeline = Pipeline([\n",
    "    (\"Linear Regression\", lr)\n",
    "])"
   ]
  },
  {
   "cell_type": "code",
   "execution_count": 51,
   "metadata": {
    "id": "T84R1SXL1Bfk"
   },
   "outputs": [],
   "source": [
    "fitted_pipeline = my_pipeline.fit(X_train, y_train)\n",
    "linear_preds = fitted_pipeline.predict(X_test)"
   ]
  },
  {
   "cell_type": "markdown",
   "metadata": {
    "id": "GiWI9ryFzn_b"
   },
   "source": [
    "## Quadratic"
   ]
  },
  {
   "cell_type": "code",
   "execution_count": 52,
   "metadata": {
    "id": "G3CdomOUznGA"
   },
   "outputs": [],
   "source": [
    "lr = LinearRegression()\n",
    "enc = OneHotEncoder()\n",
    "poly = PolynomialFeatures(2)\n",
    "\n",
    "cols_to_encode = [\"bill_length_mm\"]\n",
    "\n",
    "ct = ColumnTransformer([\n",
    "    (\"Quadratic Tranform\", poly, cols_to_encode)\n",
    "])\n",
    "\n",
    "my_pipeline = Pipeline([\n",
    "    (\"Column Transform\", ct),\n",
    "    (\"Linear Regression\", lr)\n",
    "])"
   ]
  },
  {
   "cell_type": "code",
   "execution_count": 53,
   "metadata": {
    "id": "Wt7rBXEs11Y1"
   },
   "outputs": [],
   "source": [
    "fitted_pipeline = my_pipeline.fit(X_train, y_train)\n",
    "quadratic_preds = fitted_pipeline.predict(X_test)"
   ]
  },
  {
   "cell_type": "markdown",
   "metadata": {
    "id": "m6jyAW7wzq1p"
   },
   "source": [
    "## Cubic"
   ]
  },
  {
   "cell_type": "code",
   "execution_count": 54,
   "metadata": {
    "id": "sN0A0LjRzp6r"
   },
   "outputs": [],
   "source": [
    "lr = LinearRegression()\n",
    "poly = PolynomialFeatures(3)\n",
    "\n",
    "cols_to_encode = [\"bill_length_mm\"]\n",
    "\n",
    "ct = ColumnTransformer([\n",
    "    (\"Quadratic Tranform\", poly, cols_to_encode)\n",
    "])\n",
    "\n",
    "my_pipeline = Pipeline([\n",
    "    (\"Column Transform\", ct),\n",
    "    (\"Linear Regression\", lr)\n",
    "])"
   ]
  },
  {
   "cell_type": "code",
   "execution_count": 55,
   "metadata": {
    "id": "tpBdO5l92Mo0"
   },
   "outputs": [],
   "source": [
    "fitted_pipeline = my_pipeline.fit(X_train, y_train)\n",
    "cubic_preds = fitted_pipeline.predict(X_test)"
   ]
  },
  {
   "cell_type": "markdown",
   "metadata": {
    "id": "kMyeL3vpztWV"
   },
   "source": [
    "## Degree 10"
   ]
  },
  {
   "cell_type": "code",
   "execution_count": 56,
   "metadata": {
    "id": "LLljjCKHzv_j"
   },
   "outputs": [],
   "source": [
    "lr = LinearRegression()\n",
    "poly = PolynomialFeatures(10)\n",
    "\n",
    "cols_to_encode = [\"bill_length_mm\"]\n",
    "\n",
    "ct = ColumnTransformer([\n",
    "    (\"Quadratic Tranform\", poly, cols_to_encode)\n",
    "])\n",
    "\n",
    "my_pipeline = Pipeline([\n",
    "    (\"Column Transform\", ct),\n",
    "    (\"Linear Regression\", lr)\n",
    "])"
   ]
  },
  {
   "cell_type": "code",
   "execution_count": 57,
   "metadata": {
    "id": "Qf-rdUEk2JPd"
   },
   "outputs": [],
   "source": [
    "fitted_pipeline = my_pipeline.fit(X_train, y_train)\n",
    "deg_10_preds = fitted_pipeline.predict(X_test)"
   ]
  },
  {
   "cell_type": "code",
   "execution_count": 58,
   "metadata": {},
   "outputs": [
    {
     "data": {
      "text/html": [
       "<div>\n",
       "<style scoped>\n",
       "    .dataframe tbody tr th:only-of-type {\n",
       "        vertical-align: middle;\n",
       "    }\n",
       "\n",
       "    .dataframe tbody tr th {\n",
       "        vertical-align: top;\n",
       "    }\n",
       "\n",
       "    .dataframe thead th {\n",
       "        text-align: right;\n",
       "    }\n",
       "</style>\n",
       "<table border=\"1\" class=\"dataframe\">\n",
       "  <thead>\n",
       "    <tr style=\"text-align: right;\">\n",
       "      <th></th>\n",
       "      <th>bill_length_mm</th>\n",
       "    </tr>\n",
       "  </thead>\n",
       "  <tbody>\n",
       "    <tr>\n",
       "      <th>253</th>\n",
       "      <td>55.9</td>\n",
       "    </tr>\n",
       "    <tr>\n",
       "      <th>93</th>\n",
       "      <td>39.6</td>\n",
       "    </tr>\n",
       "    <tr>\n",
       "      <th>163</th>\n",
       "      <td>49.0</td>\n",
       "    </tr>\n",
       "    <tr>\n",
       "      <th>194</th>\n",
       "      <td>45.3</td>\n",
       "    </tr>\n",
       "    <tr>\n",
       "      <th>72</th>\n",
       "      <td>39.6</td>\n",
       "    </tr>\n",
       "    <tr>\n",
       "      <th>...</th>\n",
       "      <td>...</td>\n",
       "    </tr>\n",
       "    <tr>\n",
       "      <th>280</th>\n",
       "      <td>52.7</td>\n",
       "    </tr>\n",
       "    <tr>\n",
       "      <th>206</th>\n",
       "      <td>46.5</td>\n",
       "    </tr>\n",
       "    <tr>\n",
       "      <th>77</th>\n",
       "      <td>37.2</td>\n",
       "    </tr>\n",
       "    <tr>\n",
       "      <th>88</th>\n",
       "      <td>38.3</td>\n",
       "    </tr>\n",
       "    <tr>\n",
       "      <th>217</th>\n",
       "      <td>49.8</td>\n",
       "    </tr>\n",
       "  </tbody>\n",
       "</table>\n",
       "<p>84 rows × 1 columns</p>\n",
       "</div>"
      ],
      "text/plain": [
       "     bill_length_mm\n",
       "253            55.9\n",
       "93             39.6\n",
       "163            49.0\n",
       "194            45.3\n",
       "72             39.6\n",
       "..              ...\n",
       "280            52.7\n",
       "206            46.5\n",
       "77             37.2\n",
       "88             38.3\n",
       "217            49.8\n",
       "\n",
       "[84 rows x 1 columns]"
      ]
     },
     "execution_count": 58,
     "metadata": {},
     "output_type": "execute_result"
    }
   ],
   "source": [
    "X_test"
   ]
  },
  {
   "cell_type": "code",
   "execution_count": 59,
   "metadata": {
    "colab": {
     "base_uri": "https://localhost:8080/",
     "height": 206
    },
    "id": "-2SoDpCx27Xb",
    "outputId": "44331f08-9fc3-4c23-be56-0908a1576090"
   },
   "outputs": [
    {
     "data": {
      "text/html": [
       "<div>\n",
       "<style scoped>\n",
       "    .dataframe tbody tr th:only-of-type {\n",
       "        vertical-align: middle;\n",
       "    }\n",
       "\n",
       "    .dataframe tbody tr th {\n",
       "        vertical-align: top;\n",
       "    }\n",
       "\n",
       "    .dataframe thead th {\n",
       "        text-align: right;\n",
       "    }\n",
       "</style>\n",
       "<table border=\"1\" class=\"dataframe\">\n",
       "  <thead>\n",
       "    <tr style=\"text-align: right;\">\n",
       "      <th></th>\n",
       "      <th>bill_length_mm</th>\n",
       "      <th>bill_depth_mm</th>\n",
       "      <th>Linear Predictions</th>\n",
       "      <th>Quadratic Predictions</th>\n",
       "      <th>Cubic Predictions</th>\n",
       "      <th>Degree 10 Predictions</th>\n",
       "    </tr>\n",
       "  </thead>\n",
       "  <tbody>\n",
       "    <tr>\n",
       "      <th>253</th>\n",
       "      <td>55.9</td>\n",
       "      <td>17.0</td>\n",
       "      <td>16.289811</td>\n",
       "      <td>17.797273</td>\n",
       "      <td>18.370874</td>\n",
       "      <td>18.170323</td>\n",
       "    </tr>\n",
       "    <tr>\n",
       "      <th>93</th>\n",
       "      <td>39.6</td>\n",
       "      <td>18.1</td>\n",
       "      <td>17.487333</td>\n",
       "      <td>17.330966</td>\n",
       "      <td>17.576869</td>\n",
       "      <td>18.190593</td>\n",
       "    </tr>\n",
       "    <tr>\n",
       "      <th>163</th>\n",
       "      <td>49.0</td>\n",
       "      <td>16.1</td>\n",
       "      <td>16.796737</td>\n",
       "      <td>16.675653</td>\n",
       "      <td>16.475925</td>\n",
       "      <td>16.228333</td>\n",
       "    </tr>\n",
       "    <tr>\n",
       "      <th>194</th>\n",
       "      <td>45.3</td>\n",
       "      <td>13.7</td>\n",
       "      <td>17.068567</td>\n",
       "      <td>16.633072</td>\n",
       "      <td>16.641758</td>\n",
       "      <td>15.880715</td>\n",
       "    </tr>\n",
       "    <tr>\n",
       "      <th>72</th>\n",
       "      <td>39.6</td>\n",
       "      <td>17.2</td>\n",
       "      <td>17.487333</td>\n",
       "      <td>17.330966</td>\n",
       "      <td>17.576869</td>\n",
       "      <td>18.190593</td>\n",
       "    </tr>\n",
       "  </tbody>\n",
       "</table>\n",
       "</div>"
      ],
      "text/plain": [
       "     bill_length_mm  bill_depth_mm  Linear Predictions  Quadratic Predictions  \\\n",
       "253            55.9           17.0           16.289811              17.797273   \n",
       "93             39.6           18.1           17.487333              17.330966   \n",
       "163            49.0           16.1           16.796737              16.675653   \n",
       "194            45.3           13.7           17.068567              16.633072   \n",
       "72             39.6           17.2           17.487333              17.330966   \n",
       "\n",
       "     Cubic Predictions  Degree 10 Predictions  \n",
       "253          18.370874              18.170323  \n",
       "93           17.576869              18.190593  \n",
       "163          16.475925              16.228333  \n",
       "194          16.641758              15.880715  \n",
       "72           17.576869              18.190593  "
      ]
     },
     "execution_count": 59,
     "metadata": {},
     "output_type": "execute_result"
    }
   ],
   "source": [
    "final_df = X_test\n",
    "final_df[\"bill_depth_mm\"] = y_test\n",
    "final_df[\"Linear Predictions\"] = linear_preds\n",
    "final_df[\"Quadratic Predictions\"] = quadratic_preds\n",
    "final_df[\"Cubic Predictions\"] = cubic_preds\n",
    "final_df[\"Degree 10 Predictions\"] = deg_10_preds\n",
    "final_df.head()"
   ]
  },
  {
   "cell_type": "code",
   "execution_count": 60,
   "metadata": {
    "id": "byKHASzb2zVJ"
   },
   "outputs": [],
   "source": [
    "from plotnine import ggplot, aes, geom_point, geom_line, labs"
   ]
  },
  {
   "cell_type": "code",
   "execution_count": 61,
   "metadata": {
    "colab": {
     "base_uri": "https://localhost:8080/",
     "height": 515
    },
    "id": "He3PsmBx2cd0",
    "outputId": "15cc4aae-da8d-4f9a-9912-ef7ea5c50d4d"
   },
   "outputs": [
    {
     "data": {
      "image/png": "[encoded data removed]",
      "text/plain": [
       "<Figure size 460.8x345.6 with 1 Axes>"
      ]
     },
     "metadata": {
      "image/png": {
       "height": 345,
       "width": 460
      }
     },
     "output_type": "display_data"
    },
    {
     "data": {
      "text/plain": [
       "<Figure Size: (460 x 345)>"
      ]
     },
     "execution_count": 61,
     "metadata": {},
     "output_type": "execute_result"
    }
   ],
   "source": [
    "(ggplot(final_df, \n",
    "        aes(\n",
    "            x=\"bill_length_mm\", \n",
    "            y=\"bill_depth_mm\"\n",
    "        )) +\n",
    "    geom_point() +\n",
    "    geom_line(final_df, aes(x='bill_length_mm', y='Linear Predictions'), color='blue') +\n",
    "    geom_line(final_df, aes(x='bill_length_mm', y='Quadratic Predictions'), color='red') +\n",
    "    geom_line(final_df, aes(x='bill_length_mm', y='Cubic Predictions'), color='green') +\n",
    "    geom_line(final_df, aes(x='bill_length_mm', y='Degree 10 Predictions'), color='purple')\n",
    ")"
   ]
  },
  {
   "cell_type": "markdown",
   "metadata": {
    "id": "Ph3lo8ExLSTG"
   },
   "source": [
    "* Are any of the models above underfitting the data? If so, which ones and how can you tell?\n",
    "* Are any of thhe models above overfitting the data? If so, which ones and how can you tell?\n",
    "* Which of the above models do you think fits the data best and why?"
   ]
  },
  {
   "cell_type": "markdown",
   "metadata": {
    "id": "JV1bATn4Lkq8"
   },
   "source": [
    "### I ran my models multiple times, and there is a level of randomness to the final result each time.\n",
    "- However, it seems to me that the simple linear regression line (blue)  underfits the data. There's a bit of an up and down pattern we observe that is not captured by the simple linear regression.\n",
    "- The Degree 10 polynomial definitely overfits the data. While it generally follows the pattern, it matches a bit too closely and in my mind doesn't capture the overall trend.\n",
    "- Both degree 2 and 3 models do well, but I'd have to choose quadratic due to the explosive upward trend of the cubic at the end.\n",
    "\n",
    "This data is a little challenging to fit with any line, and each run was a little different, but I feel that quadratic and cubic are better than simple linear regression or a degree 10 polynomial."
   ]
  }
 ],
 "metadata": {
  "colab": {
   "provenance": []
  },
  "kernelspec": {
   "display_name": "Python 3 (ipykernel)",
   "language": "python",
   "name": "python3"
  },
  "language_info": {
   "codemirror_mode": {
    "name": "ipython",
    "version": 3
   },
   "file_extension": ".py",
   "mimetype": "text/x-python",
   "name": "python",
   "nbconvert_exporter": "python",
   "pygments_lexer": "ipython3",
   "version": "3.10.4"
  }
 },
 "nbformat": 4,
 "nbformat_minor": 1
}
